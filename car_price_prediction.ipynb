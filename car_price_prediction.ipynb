{
 "cells": [
  {
   "cell_type": "markdown",
   "metadata": {},
   "source": [
    "# Used car price prediction"
   ]
  },
  {
   "cell_type": "markdown",
   "metadata": {},
   "source": [
    "#### Finding the value market of a used car using the following features: \n",
    " VehicleType, RegistrationYear, Gearbox, Power, Model, Mileage, RegistrationMonth, FuelType, Brand, NotRepaired, NumberOfPictures and PostalCode. "
   ]
  },
  {
   "cell_type": "markdown",
   "metadata": {},
   "source": [
    "## 1. Data preprocessing"
   ]
  },
  {
   "cell_type": "code",
   "execution_count": 1,
   "metadata": {},
   "outputs": [],
   "source": [
    "import numpy as np \n",
    "import pandas as pd \n",
    "import sklearn.metrics\n",
    "import time as t\n",
    "import matplotlib.pyplot as plt \n",
    "import seaborn as sns \n",
    "import category_encoders as ce \n",
    "from sklearn.dummy import DummyRegressor\n",
    "from sklearn.preprocessing import OneHotEncoder, MinMaxScaler, OrdinalEncoder, StandardScaler \n",
    "from sklearn.compose import make_column_transformer\n",
    "from sklearn.pipeline import make_pipeline\n",
    "from sklearn.metrics import mean_squared_error \n",
    "from sklearn.experimental import enable_halving_search_cv \n",
    "from sklearn.model_selection import train_test_split, cross_validate, GridSearchCV, HalvingGridSearchCV\n",
    "from sklearn.ensemble import AdaBoostRegressor, GradientBoostingRegressor, HistGradientBoostingRegressor, RandomForestRegressor\n",
    "from sklearn.linear_model import LinearRegression, ElasticNet, SGDRegressor \n",
    "from sklearn import set_config\n",
    "import warnings\n",
    "warnings.filterwarnings(\"ignore\")"
   ]
  },
  {
   "cell_type": "code",
   "execution_count": 2,
   "metadata": {},
   "outputs": [],
   "source": [
    "try:\n",
    "    df= pd.read_csv('car_data.csv')\n",
    "except:\n",
    "    df= pd.read_csv('/datasets/car_data.csv')"
   ]
  },
  {
   "cell_type": "code",
   "execution_count": 3,
   "metadata": {},
   "outputs": [
    {
     "data": {
      "text/html": [
       "<div>\n",
       "<style scoped>\n",
       "    .dataframe tbody tr th:only-of-type {\n",
       "        vertical-align: middle;\n",
       "    }\n",
       "\n",
       "    .dataframe tbody tr th {\n",
       "        vertical-align: top;\n",
       "    }\n",
       "\n",
       "    .dataframe thead th {\n",
       "        text-align: right;\n",
       "    }\n",
       "</style>\n",
       "<table border=\"1\" class=\"dataframe\">\n",
       "  <thead>\n",
       "    <tr style=\"text-align: right;\">\n",
       "      <th></th>\n",
       "      <th>DateCrawled</th>\n",
       "      <th>Price</th>\n",
       "      <th>VehicleType</th>\n",
       "      <th>RegistrationYear</th>\n",
       "      <th>Gearbox</th>\n",
       "      <th>Power</th>\n",
       "      <th>Model</th>\n",
       "      <th>Mileage</th>\n",
       "      <th>RegistrationMonth</th>\n",
       "      <th>FuelType</th>\n",
       "      <th>Brand</th>\n",
       "      <th>NotRepaired</th>\n",
       "      <th>DateCreated</th>\n",
       "      <th>NumberOfPictures</th>\n",
       "      <th>PostalCode</th>\n",
       "      <th>LastSeen</th>\n",
       "    </tr>\n",
       "  </thead>\n",
       "  <tbody>\n",
       "    <tr>\n",
       "      <th>0</th>\n",
       "      <td>24/03/2016 11:52</td>\n",
       "      <td>480</td>\n",
       "      <td>NaN</td>\n",
       "      <td>1993</td>\n",
       "      <td>manual</td>\n",
       "      <td>0</td>\n",
       "      <td>golf</td>\n",
       "      <td>150000</td>\n",
       "      <td>0</td>\n",
       "      <td>petrol</td>\n",
       "      <td>volkswagen</td>\n",
       "      <td>NaN</td>\n",
       "      <td>24/03/2016 00:00</td>\n",
       "      <td>0</td>\n",
       "      <td>70435</td>\n",
       "      <td>07/04/2016 03:16</td>\n",
       "    </tr>\n",
       "    <tr>\n",
       "      <th>1</th>\n",
       "      <td>24/03/2016 10:58</td>\n",
       "      <td>18300</td>\n",
       "      <td>coupe</td>\n",
       "      <td>2011</td>\n",
       "      <td>manual</td>\n",
       "      <td>190</td>\n",
       "      <td>NaN</td>\n",
       "      <td>125000</td>\n",
       "      <td>5</td>\n",
       "      <td>gasoline</td>\n",
       "      <td>audi</td>\n",
       "      <td>yes</td>\n",
       "      <td>24/03/2016 00:00</td>\n",
       "      <td>0</td>\n",
       "      <td>66954</td>\n",
       "      <td>07/04/2016 01:46</td>\n",
       "    </tr>\n",
       "    <tr>\n",
       "      <th>2</th>\n",
       "      <td>14/03/2016 12:52</td>\n",
       "      <td>9800</td>\n",
       "      <td>suv</td>\n",
       "      <td>2004</td>\n",
       "      <td>auto</td>\n",
       "      <td>163</td>\n",
       "      <td>grand</td>\n",
       "      <td>125000</td>\n",
       "      <td>8</td>\n",
       "      <td>gasoline</td>\n",
       "      <td>jeep</td>\n",
       "      <td>NaN</td>\n",
       "      <td>14/03/2016 00:00</td>\n",
       "      <td>0</td>\n",
       "      <td>90480</td>\n",
       "      <td>05/04/2016 12:47</td>\n",
       "    </tr>\n",
       "    <tr>\n",
       "      <th>3</th>\n",
       "      <td>17/03/2016 16:54</td>\n",
       "      <td>1500</td>\n",
       "      <td>small</td>\n",
       "      <td>2001</td>\n",
       "      <td>manual</td>\n",
       "      <td>75</td>\n",
       "      <td>golf</td>\n",
       "      <td>150000</td>\n",
       "      <td>6</td>\n",
       "      <td>petrol</td>\n",
       "      <td>volkswagen</td>\n",
       "      <td>no</td>\n",
       "      <td>17/03/2016 00:00</td>\n",
       "      <td>0</td>\n",
       "      <td>91074</td>\n",
       "      <td>17/03/2016 17:40</td>\n",
       "    </tr>\n",
       "    <tr>\n",
       "      <th>4</th>\n",
       "      <td>31/03/2016 17:25</td>\n",
       "      <td>3600</td>\n",
       "      <td>small</td>\n",
       "      <td>2008</td>\n",
       "      <td>manual</td>\n",
       "      <td>69</td>\n",
       "      <td>fabia</td>\n",
       "      <td>90000</td>\n",
       "      <td>7</td>\n",
       "      <td>gasoline</td>\n",
       "      <td>skoda</td>\n",
       "      <td>no</td>\n",
       "      <td>31/03/2016 00:00</td>\n",
       "      <td>0</td>\n",
       "      <td>60437</td>\n",
       "      <td>06/04/2016 10:17</td>\n",
       "    </tr>\n",
       "  </tbody>\n",
       "</table>\n",
       "</div>"
      ],
      "text/plain": [
       "        DateCrawled  Price VehicleType  RegistrationYear Gearbox  Power  \\\n",
       "0  24/03/2016 11:52    480         NaN              1993  manual      0   \n",
       "1  24/03/2016 10:58  18300       coupe              2011  manual    190   \n",
       "2  14/03/2016 12:52   9800         suv              2004    auto    163   \n",
       "3  17/03/2016 16:54   1500       small              2001  manual     75   \n",
       "4  31/03/2016 17:25   3600       small              2008  manual     69   \n",
       "\n",
       "   Model  Mileage  RegistrationMonth  FuelType       Brand NotRepaired  \\\n",
       "0   golf   150000                  0    petrol  volkswagen         NaN   \n",
       "1    NaN   125000                  5  gasoline        audi         yes   \n",
       "2  grand   125000                  8  gasoline        jeep         NaN   \n",
       "3   golf   150000                  6    petrol  volkswagen          no   \n",
       "4  fabia    90000                  7  gasoline       skoda          no   \n",
       "\n",
       "        DateCreated  NumberOfPictures  PostalCode          LastSeen  \n",
       "0  24/03/2016 00:00                 0       70435  07/04/2016 03:16  \n",
       "1  24/03/2016 00:00                 0       66954  07/04/2016 01:46  \n",
       "2  14/03/2016 00:00                 0       90480  05/04/2016 12:47  \n",
       "3  17/03/2016 00:00                 0       91074  17/03/2016 17:40  \n",
       "4  31/03/2016 00:00                 0       60437  06/04/2016 10:17  "
      ]
     },
     "execution_count": 3,
     "metadata": {},
     "output_type": "execute_result"
    }
   ],
   "source": [
    "df.head()"
   ]
  },
  {
   "cell_type": "markdown",
   "metadata": {},
   "source": [
    "- the different dates in the dataset are on the whole irrelevant to a car's price, so let's remove the date features:"
   ]
  },
  {
   "cell_type": "code",
   "execution_count": 4,
   "metadata": {},
   "outputs": [
    {
     "data": {
      "text/html": [
       "<div>\n",
       "<style scoped>\n",
       "    .dataframe tbody tr th:only-of-type {\n",
       "        vertical-align: middle;\n",
       "    }\n",
       "\n",
       "    .dataframe tbody tr th {\n",
       "        vertical-align: top;\n",
       "    }\n",
       "\n",
       "    .dataframe thead th {\n",
       "        text-align: right;\n",
       "    }\n",
       "</style>\n",
       "<table border=\"1\" class=\"dataframe\">\n",
       "  <thead>\n",
       "    <tr style=\"text-align: right;\">\n",
       "      <th></th>\n",
       "      <th>Price</th>\n",
       "      <th>VehicleType</th>\n",
       "      <th>RegistrationYear</th>\n",
       "      <th>Gearbox</th>\n",
       "      <th>Power</th>\n",
       "      <th>Model</th>\n",
       "      <th>Mileage</th>\n",
       "      <th>RegistrationMonth</th>\n",
       "      <th>FuelType</th>\n",
       "      <th>Brand</th>\n",
       "      <th>NotRepaired</th>\n",
       "      <th>NumberOfPictures</th>\n",
       "      <th>PostalCode</th>\n",
       "    </tr>\n",
       "  </thead>\n",
       "  <tbody>\n",
       "    <tr>\n",
       "      <th>0</th>\n",
       "      <td>480</td>\n",
       "      <td>NaN</td>\n",
       "      <td>1993</td>\n",
       "      <td>manual</td>\n",
       "      <td>0</td>\n",
       "      <td>golf</td>\n",
       "      <td>150000</td>\n",
       "      <td>0</td>\n",
       "      <td>petrol</td>\n",
       "      <td>volkswagen</td>\n",
       "      <td>NaN</td>\n",
       "      <td>0</td>\n",
       "      <td>70435</td>\n",
       "    </tr>\n",
       "    <tr>\n",
       "      <th>1</th>\n",
       "      <td>18300</td>\n",
       "      <td>coupe</td>\n",
       "      <td>2011</td>\n",
       "      <td>manual</td>\n",
       "      <td>190</td>\n",
       "      <td>NaN</td>\n",
       "      <td>125000</td>\n",
       "      <td>5</td>\n",
       "      <td>gasoline</td>\n",
       "      <td>audi</td>\n",
       "      <td>yes</td>\n",
       "      <td>0</td>\n",
       "      <td>66954</td>\n",
       "    </tr>\n",
       "    <tr>\n",
       "      <th>2</th>\n",
       "      <td>9800</td>\n",
       "      <td>suv</td>\n",
       "      <td>2004</td>\n",
       "      <td>auto</td>\n",
       "      <td>163</td>\n",
       "      <td>grand</td>\n",
       "      <td>125000</td>\n",
       "      <td>8</td>\n",
       "      <td>gasoline</td>\n",
       "      <td>jeep</td>\n",
       "      <td>NaN</td>\n",
       "      <td>0</td>\n",
       "      <td>90480</td>\n",
       "    </tr>\n",
       "    <tr>\n",
       "      <th>3</th>\n",
       "      <td>1500</td>\n",
       "      <td>small</td>\n",
       "      <td>2001</td>\n",
       "      <td>manual</td>\n",
       "      <td>75</td>\n",
       "      <td>golf</td>\n",
       "      <td>150000</td>\n",
       "      <td>6</td>\n",
       "      <td>petrol</td>\n",
       "      <td>volkswagen</td>\n",
       "      <td>no</td>\n",
       "      <td>0</td>\n",
       "      <td>91074</td>\n",
       "    </tr>\n",
       "    <tr>\n",
       "      <th>4</th>\n",
       "      <td>3600</td>\n",
       "      <td>small</td>\n",
       "      <td>2008</td>\n",
       "      <td>manual</td>\n",
       "      <td>69</td>\n",
       "      <td>fabia</td>\n",
       "      <td>90000</td>\n",
       "      <td>7</td>\n",
       "      <td>gasoline</td>\n",
       "      <td>skoda</td>\n",
       "      <td>no</td>\n",
       "      <td>0</td>\n",
       "      <td>60437</td>\n",
       "    </tr>\n",
       "  </tbody>\n",
       "</table>\n",
       "</div>"
      ],
      "text/plain": [
       "   Price VehicleType  RegistrationYear Gearbox  Power  Model  Mileage  \\\n",
       "0    480         NaN              1993  manual      0   golf   150000   \n",
       "1  18300       coupe              2011  manual    190    NaN   125000   \n",
       "2   9800         suv              2004    auto    163  grand   125000   \n",
       "3   1500       small              2001  manual     75   golf   150000   \n",
       "4   3600       small              2008  manual     69  fabia    90000   \n",
       "\n",
       "   RegistrationMonth  FuelType       Brand NotRepaired  NumberOfPictures  \\\n",
       "0                  0    petrol  volkswagen         NaN                 0   \n",
       "1                  5  gasoline        audi         yes                 0   \n",
       "2                  8  gasoline        jeep         NaN                 0   \n",
       "3                  6    petrol  volkswagen          no                 0   \n",
       "4                  7  gasoline       skoda          no                 0   \n",
       "\n",
       "   PostalCode  \n",
       "0       70435  \n",
       "1       66954  \n",
       "2       90480  \n",
       "3       91074  \n",
       "4       60437  "
      ]
     },
     "execution_count": 4,
     "metadata": {},
     "output_type": "execute_result"
    }
   ],
   "source": [
    "df= df.drop(['DateCrawled', 'DateCreated', 'LastSeen'], axis=1)\n",
    "df.head()"
   ]
  },
  {
   "cell_type": "code",
   "execution_count": 5,
   "metadata": {},
   "outputs": [
    {
     "data": {
      "text/plain": [
       "(354369, 13)"
      ]
     },
     "execution_count": 5,
     "metadata": {},
     "output_type": "execute_result"
    }
   ],
   "source": [
    "df.shape"
   ]
  },
  {
   "cell_type": "code",
   "execution_count": 6,
   "metadata": {},
   "outputs": [
    {
     "data": {
      "text/plain": [
       "Price                    0\n",
       "VehicleType          37490\n",
       "RegistrationYear         0\n",
       "Gearbox              19833\n",
       "Power                    0\n",
       "Model                19705\n",
       "Mileage                  0\n",
       "RegistrationMonth        0\n",
       "FuelType             32895\n",
       "Brand                    0\n",
       "NotRepaired          71154\n",
       "NumberOfPictures         0\n",
       "PostalCode               0\n",
       "dtype: int64"
      ]
     },
     "execution_count": 6,
     "metadata": {},
     "output_type": "execute_result"
    }
   ],
   "source": [
    "df.isna().sum()"
   ]
  },
  {
   "cell_type": "markdown",
   "metadata": {},
   "source": [
    "- although the entries with missing values constitute about 20% of the data, ~245,000 samples are quit enough for a regression problem, so we can drop missing values:"
   ]
  },
  {
   "cell_type": "code",
   "execution_count": 7,
   "metadata": {},
   "outputs": [
    {
     "name": "stdout",
     "output_type": "stream",
     "text": [
      "<class 'pandas.core.frame.DataFrame'>\n",
      "RangeIndex: 245814 entries, 0 to 245813\n",
      "Data columns (total 13 columns):\n",
      " #   Column             Non-Null Count   Dtype \n",
      "---  ------             --------------   ----- \n",
      " 0   Price              245814 non-null  int64 \n",
      " 1   VehicleType        245814 non-null  object\n",
      " 2   RegistrationYear   245814 non-null  int64 \n",
      " 3   Gearbox            245814 non-null  object\n",
      " 4   Power              245814 non-null  int64 \n",
      " 5   Model              245814 non-null  object\n",
      " 6   Mileage            245814 non-null  int64 \n",
      " 7   RegistrationMonth  245814 non-null  int64 \n",
      " 8   FuelType           245814 non-null  object\n",
      " 9   Brand              245814 non-null  object\n",
      " 10  NotRepaired        245814 non-null  object\n",
      " 11  NumberOfPictures   245814 non-null  int64 \n",
      " 12  PostalCode         245814 non-null  int64 \n",
      "dtypes: int64(7), object(6)\n",
      "memory usage: 24.4+ MB\n"
     ]
    }
   ],
   "source": [
    "df= df.dropna().reset_index(drop=True)\n",
    "df.info()"
   ]
  },
  {
   "cell_type": "code",
   "execution_count": 8,
   "metadata": {},
   "outputs": [
    {
     "data": {
      "text/html": [
       "<div>\n",
       "<style scoped>\n",
       "    .dataframe tbody tr th:only-of-type {\n",
       "        vertical-align: middle;\n",
       "    }\n",
       "\n",
       "    .dataframe tbody tr th {\n",
       "        vertical-align: top;\n",
       "    }\n",
       "\n",
       "    .dataframe thead th {\n",
       "        text-align: right;\n",
       "    }\n",
       "</style>\n",
       "<table border=\"1\" class=\"dataframe\">\n",
       "  <thead>\n",
       "    <tr style=\"text-align: right;\">\n",
       "      <th></th>\n",
       "      <th>count</th>\n",
       "      <th>mean</th>\n",
       "      <th>std</th>\n",
       "      <th>min</th>\n",
       "      <th>25%</th>\n",
       "      <th>50%</th>\n",
       "      <th>75%</th>\n",
       "      <th>max</th>\n",
       "      <th>low_outliers</th>\n",
       "      <th>high_outliers</th>\n",
       "    </tr>\n",
       "  </thead>\n",
       "  <tbody>\n",
       "    <tr>\n",
       "      <th>Price</th>\n",
       "      <td>245814.0</td>\n",
       "      <td>5125.346717</td>\n",
       "      <td>4717.948673</td>\n",
       "      <td>0.0</td>\n",
       "      <td>1499.0</td>\n",
       "      <td>3500.0</td>\n",
       "      <td>7500.0</td>\n",
       "      <td>20000.0</td>\n",
       "      <td>-7502.5</td>\n",
       "      <td>16501.5</td>\n",
       "    </tr>\n",
       "    <tr>\n",
       "      <th>RegistrationYear</th>\n",
       "      <td>245814.0</td>\n",
       "      <td>2002.918699</td>\n",
       "      <td>6.163765</td>\n",
       "      <td>1910.0</td>\n",
       "      <td>1999.0</td>\n",
       "      <td>2003.0</td>\n",
       "      <td>2007.0</td>\n",
       "      <td>2018.0</td>\n",
       "      <td>1987.0</td>\n",
       "      <td>2019.0</td>\n",
       "    </tr>\n",
       "    <tr>\n",
       "      <th>Power</th>\n",
       "      <td>245814.0</td>\n",
       "      <td>119.970884</td>\n",
       "      <td>139.387116</td>\n",
       "      <td>0.0</td>\n",
       "      <td>75.0</td>\n",
       "      <td>110.0</td>\n",
       "      <td>150.0</td>\n",
       "      <td>20000.0</td>\n",
       "      <td>-37.5</td>\n",
       "      <td>262.5</td>\n",
       "    </tr>\n",
       "    <tr>\n",
       "      <th>Mileage</th>\n",
       "      <td>245814.0</td>\n",
       "      <td>127296.716216</td>\n",
       "      <td>37078.820368</td>\n",
       "      <td>5000.0</td>\n",
       "      <td>125000.0</td>\n",
       "      <td>150000.0</td>\n",
       "      <td>150000.0</td>\n",
       "      <td>150000.0</td>\n",
       "      <td>87500.0</td>\n",
       "      <td>187500.0</td>\n",
       "    </tr>\n",
       "    <tr>\n",
       "      <th>RegistrationMonth</th>\n",
       "      <td>245814.0</td>\n",
       "      <td>6.179701</td>\n",
       "      <td>3.479519</td>\n",
       "      <td>0.0</td>\n",
       "      <td>3.0</td>\n",
       "      <td>6.0</td>\n",
       "      <td>9.0</td>\n",
       "      <td>12.0</td>\n",
       "      <td>-6.0</td>\n",
       "      <td>18.0</td>\n",
       "    </tr>\n",
       "    <tr>\n",
       "      <th>NumberOfPictures</th>\n",
       "      <td>245814.0</td>\n",
       "      <td>0.000000</td>\n",
       "      <td>0.000000</td>\n",
       "      <td>0.0</td>\n",
       "      <td>0.0</td>\n",
       "      <td>0.0</td>\n",
       "      <td>0.0</td>\n",
       "      <td>0.0</td>\n",
       "      <td>0.0</td>\n",
       "      <td>0.0</td>\n",
       "    </tr>\n",
       "    <tr>\n",
       "      <th>PostalCode</th>\n",
       "      <td>245814.0</td>\n",
       "      <td>51463.186002</td>\n",
       "      <td>25838.058847</td>\n",
       "      <td>1067.0</td>\n",
       "      <td>30966.0</td>\n",
       "      <td>50769.0</td>\n",
       "      <td>72379.0</td>\n",
       "      <td>99998.0</td>\n",
       "      <td>-31153.5</td>\n",
       "      <td>134498.5</td>\n",
       "    </tr>\n",
       "  </tbody>\n",
       "</table>\n",
       "</div>"
      ],
      "text/plain": [
       "                      count           mean           std     min       25%  \\\n",
       "Price              245814.0    5125.346717   4717.948673     0.0    1499.0   \n",
       "RegistrationYear   245814.0    2002.918699      6.163765  1910.0    1999.0   \n",
       "Power              245814.0     119.970884    139.387116     0.0      75.0   \n",
       "Mileage            245814.0  127296.716216  37078.820368  5000.0  125000.0   \n",
       "RegistrationMonth  245814.0       6.179701      3.479519     0.0       3.0   \n",
       "NumberOfPictures   245814.0       0.000000      0.000000     0.0       0.0   \n",
       "PostalCode         245814.0   51463.186002  25838.058847  1067.0   30966.0   \n",
       "\n",
       "                        50%       75%       max  low_outliers  high_outliers  \n",
       "Price                3500.0    7500.0   20000.0       -7502.5        16501.5  \n",
       "RegistrationYear     2003.0    2007.0    2018.0        1987.0         2019.0  \n",
       "Power                 110.0     150.0   20000.0         -37.5          262.5  \n",
       "Mileage            150000.0  150000.0  150000.0       87500.0       187500.0  \n",
       "RegistrationMonth       6.0       9.0      12.0          -6.0           18.0  \n",
       "NumberOfPictures        0.0       0.0       0.0           0.0            0.0  \n",
       "PostalCode          50769.0   72379.0   99998.0      -31153.5       134498.5  "
      ]
     },
     "execution_count": 8,
     "metadata": {},
     "output_type": "execute_result"
    }
   ],
   "source": [
    "numerical_data= df.select_dtypes(include='number')\n",
    "numerical_data_statistics = numerical_data.describe(percentiles=[.25, .75]).T\n",
    "numerical_data_statistics['low_outliers']= numerical_data_statistics['25%'] - 1.5*(numerical_data_statistics['75%']- numerical_data_statistics['25%'])\n",
    "numerical_data_statistics['high_outliers']= numerical_data_statistics['75%'] + 1.5*(numerical_data_statistics['75%']- numerical_data_statistics['25%'])\n",
    "numerical_data_statistics"
   ]
  },
  {
   "cell_type": "markdown",
   "metadata": {},
   "source": [
    "- as can be seen, we can drop the 'NumberOfPictures' feature which has no added value since it has only 1 value. \n",
    "- we can also drop the PostalCode feature as it has little to do with the actual car itself and although it's a numeric, it's actually a categorical feature in nature and treating it as numeric by the estimators might throw it off. \n",
    "- RegistrationMonth is also redundant in determining a car's price.\n",
    "- we can get rid of outliers as well."
   ]
  },
  {
   "cell_type": "code",
   "execution_count": 9,
   "metadata": {},
   "outputs": [],
   "source": [
    "df= df.drop(['NumberOfPictures', 'PostalCode', 'RegistrationMonth'], axis=1)"
   ]
  },
  {
   "cell_type": "code",
   "execution_count": 10,
   "metadata": {},
   "outputs": [
    {
     "name": "stdout",
     "output_type": "stream",
     "text": [
      "<class 'pandas.core.frame.DataFrame'>\n",
      "RangeIndex: 196583 entries, 0 to 196582\n",
      "Data columns (total 10 columns):\n",
      " #   Column            Non-Null Count   Dtype \n",
      "---  ------            --------------   ----- \n",
      " 0   Price             196583 non-null  int64 \n",
      " 1   VehicleType       196583 non-null  object\n",
      " 2   RegistrationYear  196583 non-null  int64 \n",
      " 3   Gearbox           196583 non-null  object\n",
      " 4   Power             196583 non-null  int64 \n",
      " 5   Model             196583 non-null  object\n",
      " 6   Mileage           196583 non-null  int64 \n",
      " 7   FuelType          196583 non-null  object\n",
      " 8   Brand             196583 non-null  object\n",
      " 9   NotRepaired       196583 non-null  object\n",
      "dtypes: int64(4), object(6)\n",
      "memory usage: 15.0+ MB\n"
     ]
    }
   ],
   "source": [
    "outliers= df[(df['Price']>16501.5) | (df['RegistrationYear']<1987) | (df['Power']> 262.5) | (df['Mileage']<87500)]\n",
    "df= df.drop(outliers.index).reset_index(drop=True)\n",
    "df.info() "
   ]
  },
  {
   "cell_type": "code",
   "execution_count": 11,
   "metadata": {},
   "outputs": [],
   "source": [
    "X= df.drop('Price', axis=1)\n",
    "y= df['Price']"
   ]
  },
  {
   "cell_type": "code",
   "execution_count": 12,
   "metadata": {},
   "outputs": [],
   "source": [
    "X_train, X_test, y_train, y_test= train_test_split(X, y, test_size=0.3, random_state=42)"
   ]
  },
  {
   "cell_type": "code",
   "execution_count": 13,
   "metadata": {},
   "outputs": [
    {
     "name": "stdout",
     "output_type": "stream",
     "text": [
      "(137608, 9) (137608,)\n"
     ]
    }
   ],
   "source": [
    "print(X_train.shape, y_train.shape)"
   ]
  },
  {
   "cell_type": "markdown",
   "metadata": {},
   "source": [
    "Setting up the preprocessing Pipeline:"
   ]
  },
  {
   "cell_type": "code",
   "execution_count": 14,
   "metadata": {},
   "outputs": [
    {
     "data": {
      "text/plain": [
       "['RegistrationYear', 'Power', 'Mileage']"
      ]
     },
     "execution_count": 14,
     "metadata": {},
     "output_type": "execute_result"
    }
   ],
   "source": [
    "numerical_features= X_train.select_dtypes(include='number').columns.to_list()\n",
    "numerical_features"
   ]
  },
  {
   "cell_type": "code",
   "execution_count": 15,
   "metadata": {},
   "outputs": [
    {
     "data": {
      "text/plain": [
       "['VehicleType', 'Gearbox', 'Model', 'FuelType', 'Brand', 'NotRepaired']"
      ]
     },
     "execution_count": 15,
     "metadata": {},
     "output_type": "execute_result"
    }
   ],
   "source": [
    "categorical_features= X_train.select_dtypes(exclude='number').columns.to_list()\n",
    "categorical_features"
   ]
  },
  {
   "cell_type": "code",
   "execution_count": 16,
   "metadata": {},
   "outputs": [],
   "source": [
    " preprocessor= make_column_transformer((StandardScaler(), numerical_features), \n",
    "    (OneHotEncoder(handle_unknown='ignore', drop='if_binary'), categorical_features))"
   ]
  },
  {
   "cell_type": "markdown",
   "metadata": {},
   "source": [
    "## 2. Model training and comparison"
   ]
  },
  {
   "cell_type": "markdown",
   "metadata": {},
   "source": [
    "#### Linear Regression"
   ]
  },
  {
   "cell_type": "code",
   "execution_count": 17,
   "metadata": {},
   "outputs": [],
   "source": [
    "linear_reg= LinearRegression()\n",
    "linear_reg_pipeline= make_pipeline(preprocessor, linear_reg)"
   ]
  },
  {
   "cell_type": "code",
   "execution_count": 18,
   "metadata": {},
   "outputs": [
    {
     "data": {
      "text/html": [
       "<style>#sk-fc777c99-eed2-48cf-bcf6-73a403832aec {color: black;background-color: white;}#sk-fc777c99-eed2-48cf-bcf6-73a403832aec pre{padding: 0;}#sk-fc777c99-eed2-48cf-bcf6-73a403832aec div.sk-toggleable {background-color: white;}#sk-fc777c99-eed2-48cf-bcf6-73a403832aec label.sk-toggleable__label {cursor: pointer;display: block;width: 100%;margin-bottom: 0;padding: 0.3em;box-sizing: border-box;text-align: center;}#sk-fc777c99-eed2-48cf-bcf6-73a403832aec label.sk-toggleable__label-arrow:before {content: \"▸\";float: left;margin-right: 0.25em;color: #696969;}#sk-fc777c99-eed2-48cf-bcf6-73a403832aec label.sk-toggleable__label-arrow:hover:before {color: black;}#sk-fc777c99-eed2-48cf-bcf6-73a403832aec div.sk-estimator:hover label.sk-toggleable__label-arrow:before {color: black;}#sk-fc777c99-eed2-48cf-bcf6-73a403832aec div.sk-toggleable__content {max-height: 0;max-width: 0;overflow: hidden;text-align: left;background-color: #f0f8ff;}#sk-fc777c99-eed2-48cf-bcf6-73a403832aec div.sk-toggleable__content pre {margin: 0.2em;color: black;border-radius: 0.25em;background-color: #f0f8ff;}#sk-fc777c99-eed2-48cf-bcf6-73a403832aec input.sk-toggleable__control:checked~div.sk-toggleable__content {max-height: 200px;max-width: 100%;overflow: auto;}#sk-fc777c99-eed2-48cf-bcf6-73a403832aec input.sk-toggleable__control:checked~label.sk-toggleable__label-arrow:before {content: \"▾\";}#sk-fc777c99-eed2-48cf-bcf6-73a403832aec div.sk-estimator input.sk-toggleable__control:checked~label.sk-toggleable__label {background-color: #d4ebff;}#sk-fc777c99-eed2-48cf-bcf6-73a403832aec div.sk-label input.sk-toggleable__control:checked~label.sk-toggleable__label {background-color: #d4ebff;}#sk-fc777c99-eed2-48cf-bcf6-73a403832aec input.sk-hidden--visually {border: 0;clip: rect(1px 1px 1px 1px);clip: rect(1px, 1px, 1px, 1px);height: 1px;margin: -1px;overflow: hidden;padding: 0;position: absolute;width: 1px;}#sk-fc777c99-eed2-48cf-bcf6-73a403832aec div.sk-estimator {font-family: monospace;background-color: #f0f8ff;border: 1px dotted black;border-radius: 0.25em;box-sizing: border-box;margin-bottom: 0.5em;}#sk-fc777c99-eed2-48cf-bcf6-73a403832aec div.sk-estimator:hover {background-color: #d4ebff;}#sk-fc777c99-eed2-48cf-bcf6-73a403832aec div.sk-parallel-item::after {content: \"\";width: 100%;border-bottom: 1px solid gray;flex-grow: 1;}#sk-fc777c99-eed2-48cf-bcf6-73a403832aec div.sk-label:hover label.sk-toggleable__label {background-color: #d4ebff;}#sk-fc777c99-eed2-48cf-bcf6-73a403832aec div.sk-serial::before {content: \"\";position: absolute;border-left: 1px solid gray;box-sizing: border-box;top: 2em;bottom: 0;left: 50%;}#sk-fc777c99-eed2-48cf-bcf6-73a403832aec div.sk-serial {display: flex;flex-direction: column;align-items: center;background-color: white;padding-right: 0.2em;padding-left: 0.2em;}#sk-fc777c99-eed2-48cf-bcf6-73a403832aec div.sk-item {z-index: 1;}#sk-fc777c99-eed2-48cf-bcf6-73a403832aec div.sk-parallel {display: flex;align-items: stretch;justify-content: center;background-color: white;}#sk-fc777c99-eed2-48cf-bcf6-73a403832aec div.sk-parallel::before {content: \"\";position: absolute;border-left: 1px solid gray;box-sizing: border-box;top: 2em;bottom: 0;left: 50%;}#sk-fc777c99-eed2-48cf-bcf6-73a403832aec div.sk-parallel-item {display: flex;flex-direction: column;position: relative;background-color: white;}#sk-fc777c99-eed2-48cf-bcf6-73a403832aec div.sk-parallel-item:first-child::after {align-self: flex-end;width: 50%;}#sk-fc777c99-eed2-48cf-bcf6-73a403832aec div.sk-parallel-item:last-child::after {align-self: flex-start;width: 50%;}#sk-fc777c99-eed2-48cf-bcf6-73a403832aec div.sk-parallel-item:only-child::after {width: 0;}#sk-fc777c99-eed2-48cf-bcf6-73a403832aec div.sk-dashed-wrapped {border: 1px dashed gray;margin: 0 0.4em 0.5em 0.4em;box-sizing: border-box;padding-bottom: 0.4em;background-color: white;position: relative;}#sk-fc777c99-eed2-48cf-bcf6-73a403832aec div.sk-label label {font-family: monospace;font-weight: bold;background-color: white;display: inline-block;line-height: 1.2em;}#sk-fc777c99-eed2-48cf-bcf6-73a403832aec div.sk-label-container {position: relative;z-index: 2;text-align: center;}#sk-fc777c99-eed2-48cf-bcf6-73a403832aec div.sk-container {/* jupyter's `normalize.less` sets `[hidden] { display: none; }` but bootstrap.min.css set `[hidden] { display: none !important; }` so we also need the `!important` here to be able to override the default hidden behavior on the sphinx rendered scikit-learn.org. See: https://github.com/scikit-learn/scikit-learn/issues/21755 */display: inline-block !important;position: relative;}#sk-fc777c99-eed2-48cf-bcf6-73a403832aec div.sk-text-repr-fallback {display: none;}</style><div id=\"sk-fc777c99-eed2-48cf-bcf6-73a403832aec\" class=\"sk-top-container\"><div class=\"sk-text-repr-fallback\"><pre>Pipeline(steps=[(&#x27;columntransformer&#x27;,\n",
       "                 ColumnTransformer(transformers=[(&#x27;standardscaler&#x27;,\n",
       "                                                  StandardScaler(),\n",
       "                                                  [&#x27;RegistrationYear&#x27;, &#x27;Power&#x27;,\n",
       "                                                   &#x27;Mileage&#x27;]),\n",
       "                                                 (&#x27;onehotencoder&#x27;,\n",
       "                                                  OneHotEncoder(drop=&#x27;if_binary&#x27;,\n",
       "                                                                handle_unknown=&#x27;ignore&#x27;),\n",
       "                                                  [&#x27;VehicleType&#x27;, &#x27;Gearbox&#x27;,\n",
       "                                                   &#x27;Model&#x27;, &#x27;FuelType&#x27;, &#x27;Brand&#x27;,\n",
       "                                                   &#x27;NotRepaired&#x27;])])),\n",
       "                (&#x27;linearregression&#x27;, LinearRegression())])</pre><b>Please rerun this cell to show the HTML repr or trust the notebook.</b></div><div class=\"sk-container\" hidden><div class=\"sk-item sk-dashed-wrapped\"><div class=\"sk-label-container\"><div class=\"sk-label sk-toggleable\"><input class=\"sk-toggleable__control sk-hidden--visually\" id=\"609d34c8-004d-47d4-a734-c1978a8524c4\" type=\"checkbox\" ><label for=\"609d34c8-004d-47d4-a734-c1978a8524c4\" class=\"sk-toggleable__label sk-toggleable__label-arrow\">Pipeline</label><div class=\"sk-toggleable__content\"><pre>Pipeline(steps=[(&#x27;columntransformer&#x27;,\n",
       "                 ColumnTransformer(transformers=[(&#x27;standardscaler&#x27;,\n",
       "                                                  StandardScaler(),\n",
       "                                                  [&#x27;RegistrationYear&#x27;, &#x27;Power&#x27;,\n",
       "                                                   &#x27;Mileage&#x27;]),\n",
       "                                                 (&#x27;onehotencoder&#x27;,\n",
       "                                                  OneHotEncoder(drop=&#x27;if_binary&#x27;,\n",
       "                                                                handle_unknown=&#x27;ignore&#x27;),\n",
       "                                                  [&#x27;VehicleType&#x27;, &#x27;Gearbox&#x27;,\n",
       "                                                   &#x27;Model&#x27;, &#x27;FuelType&#x27;, &#x27;Brand&#x27;,\n",
       "                                                   &#x27;NotRepaired&#x27;])])),\n",
       "                (&#x27;linearregression&#x27;, LinearRegression())])</pre></div></div></div><div class=\"sk-serial\"><div class=\"sk-item sk-dashed-wrapped\"><div class=\"sk-label-container\"><div class=\"sk-label sk-toggleable\"><input class=\"sk-toggleable__control sk-hidden--visually\" id=\"53fd6226-3a1a-40f2-b27c-e32e8e5e8950\" type=\"checkbox\" ><label for=\"53fd6226-3a1a-40f2-b27c-e32e8e5e8950\" class=\"sk-toggleable__label sk-toggleable__label-arrow\">columntransformer: ColumnTransformer</label><div class=\"sk-toggleable__content\"><pre>ColumnTransformer(transformers=[(&#x27;standardscaler&#x27;, StandardScaler(),\n",
       "                                 [&#x27;RegistrationYear&#x27;, &#x27;Power&#x27;, &#x27;Mileage&#x27;]),\n",
       "                                (&#x27;onehotencoder&#x27;,\n",
       "                                 OneHotEncoder(drop=&#x27;if_binary&#x27;,\n",
       "                                               handle_unknown=&#x27;ignore&#x27;),\n",
       "                                 [&#x27;VehicleType&#x27;, &#x27;Gearbox&#x27;, &#x27;Model&#x27;, &#x27;FuelType&#x27;,\n",
       "                                  &#x27;Brand&#x27;, &#x27;NotRepaired&#x27;])])</pre></div></div></div><div class=\"sk-parallel\"><div class=\"sk-parallel-item\"><div class=\"sk-item\"><div class=\"sk-label-container\"><div class=\"sk-label sk-toggleable\"><input class=\"sk-toggleable__control sk-hidden--visually\" id=\"9216c401-96b9-49e2-8c2e-bec92c1b7863\" type=\"checkbox\" ><label for=\"9216c401-96b9-49e2-8c2e-bec92c1b7863\" class=\"sk-toggleable__label sk-toggleable__label-arrow\">standardscaler</label><div class=\"sk-toggleable__content\"><pre>[&#x27;RegistrationYear&#x27;, &#x27;Power&#x27;, &#x27;Mileage&#x27;]</pre></div></div></div><div class=\"sk-serial\"><div class=\"sk-item\"><div class=\"sk-estimator sk-toggleable\"><input class=\"sk-toggleable__control sk-hidden--visually\" id=\"89ea9c59-a1a4-428c-bf3f-f25f90f922ce\" type=\"checkbox\" ><label for=\"89ea9c59-a1a4-428c-bf3f-f25f90f922ce\" class=\"sk-toggleable__label sk-toggleable__label-arrow\">StandardScaler</label><div class=\"sk-toggleable__content\"><pre>StandardScaler()</pre></div></div></div></div></div></div><div class=\"sk-parallel-item\"><div class=\"sk-item\"><div class=\"sk-label-container\"><div class=\"sk-label sk-toggleable\"><input class=\"sk-toggleable__control sk-hidden--visually\" id=\"b0f096b3-8f50-4939-9cca-e581f3c33852\" type=\"checkbox\" ><label for=\"b0f096b3-8f50-4939-9cca-e581f3c33852\" class=\"sk-toggleable__label sk-toggleable__label-arrow\">onehotencoder</label><div class=\"sk-toggleable__content\"><pre>[&#x27;VehicleType&#x27;, &#x27;Gearbox&#x27;, &#x27;Model&#x27;, &#x27;FuelType&#x27;, &#x27;Brand&#x27;, &#x27;NotRepaired&#x27;]</pre></div></div></div><div class=\"sk-serial\"><div class=\"sk-item\"><div class=\"sk-estimator sk-toggleable\"><input class=\"sk-toggleable__control sk-hidden--visually\" id=\"49bd94c7-a241-400a-b579-d2b45e7c2d62\" type=\"checkbox\" ><label for=\"49bd94c7-a241-400a-b579-d2b45e7c2d62\" class=\"sk-toggleable__label sk-toggleable__label-arrow\">OneHotEncoder</label><div class=\"sk-toggleable__content\"><pre>OneHotEncoder(drop=&#x27;if_binary&#x27;, handle_unknown=&#x27;ignore&#x27;)</pre></div></div></div></div></div></div></div></div><div class=\"sk-item\"><div class=\"sk-estimator sk-toggleable\"><input class=\"sk-toggleable__control sk-hidden--visually\" id=\"b4142cdc-5da6-40cc-bc7d-210a5af1535d\" type=\"checkbox\" ><label for=\"b4142cdc-5da6-40cc-bc7d-210a5af1535d\" class=\"sk-toggleable__label sk-toggleable__label-arrow\">LinearRegression</label><div class=\"sk-toggleable__content\"><pre>LinearRegression()</pre></div></div></div></div></div></div></div>"
      ],
      "text/plain": [
       "Pipeline(steps=[('columntransformer',\n",
       "                 ColumnTransformer(transformers=[('standardscaler',\n",
       "                                                  StandardScaler(),\n",
       "                                                  ['RegistrationYear', 'Power',\n",
       "                                                   'Mileage']),\n",
       "                                                 ('onehotencoder',\n",
       "                                                  OneHotEncoder(drop='if_binary',\n",
       "                                                                handle_unknown='ignore'),\n",
       "                                                  ['VehicleType', 'Gearbox',\n",
       "                                                   'Model', 'FuelType', 'Brand',\n",
       "                                                   'NotRepaired'])])),\n",
       "                ('linearregression', LinearRegression())])"
      ]
     },
     "execution_count": 18,
     "metadata": {},
     "output_type": "execute_result"
    }
   ],
   "source": [
    "set_config(display='diagram')\n",
    "linear_reg_pipeline"
   ]
  },
  {
   "cell_type": "code",
   "execution_count": 19,
   "metadata": {},
   "outputs": [],
   "source": [
    "linear_scores= cross_validate(linear_reg_pipeline , X_train, y_train, cv=5, scoring='neg_mean_squared_error')"
   ]
  },
  {
   "cell_type": "code",
   "execution_count": 20,
   "metadata": {},
   "outputs": [
    {
     "name": "stdout",
     "output_type": "stream",
     "text": [
      "rmse of linear_reg_pipeline: 1920.1\n"
     ]
    }
   ],
   "source": [
    "rmse_linear= np.sqrt(-linear_scores['test_score'].mean()).round(1)\n",
    "print('rmse of linear_reg_pipeline:', rmse_linear)"
   ]
  },
  {
   "cell_type": "code",
   "execution_count": 21,
   "metadata": {},
   "outputs": [
    {
     "name": "stdout",
     "output_type": "stream",
     "text": [
      "runtime: 0.2\n",
      "rmse of linear_reg_pipeline test score: 1921.9\n"
     ]
    }
   ],
   "source": [
    "linear_reg_pipeline.fit(X_train, y_train)\n",
    "start = t.time()\n",
    "linearRegression_prediction= linear_reg_pipeline.predict(X_test)\n",
    "end= t.time()\n",
    "print('runtime:', round((end - start),1))\n",
    "test_score_linearRegression= np.sqrt(mean_squared_error(y_test, linearRegression_prediction)).round(1)\n",
    "print('rmse of linear_reg_pipeline test score:', test_score_linearRegression)"
   ]
  },
  {
   "cell_type": "markdown",
   "metadata": {},
   "source": [
    "#### ElasticNetRegressor"
   ]
  },
  {
   "cell_type": "code",
   "execution_count": 22,
   "metadata": {},
   "outputs": [],
   "source": [
    "elastic_model= ElasticNet(random_state=42)\n",
    "elastic_pipeline= make_pipeline(preprocessor, elastic_model)"
   ]
  },
  {
   "cell_type": "code",
   "execution_count": 23,
   "metadata": {},
   "outputs": [],
   "source": [
    "#elastic_pipeline.get_params().keys()"
   ]
  },
  {
   "cell_type": "code",
   "execution_count": 24,
   "metadata": {},
   "outputs": [],
   "source": [
    "params= dict(elasticnet__l1_ratio= [.1, .5, .7, .9, .95, .99, 1], elasticnet__alpha= [0.5, 1, 1.5], elasticnet__max_iter= [10000])"
   ]
  },
  {
   "cell_type": "code",
   "execution_count": 25,
   "metadata": {
    "tags": []
   },
   "outputs": [
    {
     "data": {
      "text/html": [
       "<style>#sk-0a3f3480-313b-48b3-82a7-f7fda1fce5c7 {color: black;background-color: white;}#sk-0a3f3480-313b-48b3-82a7-f7fda1fce5c7 pre{padding: 0;}#sk-0a3f3480-313b-48b3-82a7-f7fda1fce5c7 div.sk-toggleable {background-color: white;}#sk-0a3f3480-313b-48b3-82a7-f7fda1fce5c7 label.sk-toggleable__label {cursor: pointer;display: block;width: 100%;margin-bottom: 0;padding: 0.3em;box-sizing: border-box;text-align: center;}#sk-0a3f3480-313b-48b3-82a7-f7fda1fce5c7 label.sk-toggleable__label-arrow:before {content: \"▸\";float: left;margin-right: 0.25em;color: #696969;}#sk-0a3f3480-313b-48b3-82a7-f7fda1fce5c7 label.sk-toggleable__label-arrow:hover:before {color: black;}#sk-0a3f3480-313b-48b3-82a7-f7fda1fce5c7 div.sk-estimator:hover label.sk-toggleable__label-arrow:before {color: black;}#sk-0a3f3480-313b-48b3-82a7-f7fda1fce5c7 div.sk-toggleable__content {max-height: 0;max-width: 0;overflow: hidden;text-align: left;background-color: #f0f8ff;}#sk-0a3f3480-313b-48b3-82a7-f7fda1fce5c7 div.sk-toggleable__content pre {margin: 0.2em;color: black;border-radius: 0.25em;background-color: #f0f8ff;}#sk-0a3f3480-313b-48b3-82a7-f7fda1fce5c7 input.sk-toggleable__control:checked~div.sk-toggleable__content {max-height: 200px;max-width: 100%;overflow: auto;}#sk-0a3f3480-313b-48b3-82a7-f7fda1fce5c7 input.sk-toggleable__control:checked~label.sk-toggleable__label-arrow:before {content: \"▾\";}#sk-0a3f3480-313b-48b3-82a7-f7fda1fce5c7 div.sk-estimator input.sk-toggleable__control:checked~label.sk-toggleable__label {background-color: #d4ebff;}#sk-0a3f3480-313b-48b3-82a7-f7fda1fce5c7 div.sk-label input.sk-toggleable__control:checked~label.sk-toggleable__label {background-color: #d4ebff;}#sk-0a3f3480-313b-48b3-82a7-f7fda1fce5c7 input.sk-hidden--visually {border: 0;clip: rect(1px 1px 1px 1px);clip: rect(1px, 1px, 1px, 1px);height: 1px;margin: -1px;overflow: hidden;padding: 0;position: absolute;width: 1px;}#sk-0a3f3480-313b-48b3-82a7-f7fda1fce5c7 div.sk-estimator {font-family: monospace;background-color: #f0f8ff;border: 1px dotted black;border-radius: 0.25em;box-sizing: border-box;margin-bottom: 0.5em;}#sk-0a3f3480-313b-48b3-82a7-f7fda1fce5c7 div.sk-estimator:hover {background-color: #d4ebff;}#sk-0a3f3480-313b-48b3-82a7-f7fda1fce5c7 div.sk-parallel-item::after {content: \"\";width: 100%;border-bottom: 1px solid gray;flex-grow: 1;}#sk-0a3f3480-313b-48b3-82a7-f7fda1fce5c7 div.sk-label:hover label.sk-toggleable__label {background-color: #d4ebff;}#sk-0a3f3480-313b-48b3-82a7-f7fda1fce5c7 div.sk-serial::before {content: \"\";position: absolute;border-left: 1px solid gray;box-sizing: border-box;top: 2em;bottom: 0;left: 50%;}#sk-0a3f3480-313b-48b3-82a7-f7fda1fce5c7 div.sk-serial {display: flex;flex-direction: column;align-items: center;background-color: white;padding-right: 0.2em;padding-left: 0.2em;}#sk-0a3f3480-313b-48b3-82a7-f7fda1fce5c7 div.sk-item {z-index: 1;}#sk-0a3f3480-313b-48b3-82a7-f7fda1fce5c7 div.sk-parallel {display: flex;align-items: stretch;justify-content: center;background-color: white;}#sk-0a3f3480-313b-48b3-82a7-f7fda1fce5c7 div.sk-parallel::before {content: \"\";position: absolute;border-left: 1px solid gray;box-sizing: border-box;top: 2em;bottom: 0;left: 50%;}#sk-0a3f3480-313b-48b3-82a7-f7fda1fce5c7 div.sk-parallel-item {display: flex;flex-direction: column;position: relative;background-color: white;}#sk-0a3f3480-313b-48b3-82a7-f7fda1fce5c7 div.sk-parallel-item:first-child::after {align-self: flex-end;width: 50%;}#sk-0a3f3480-313b-48b3-82a7-f7fda1fce5c7 div.sk-parallel-item:last-child::after {align-self: flex-start;width: 50%;}#sk-0a3f3480-313b-48b3-82a7-f7fda1fce5c7 div.sk-parallel-item:only-child::after {width: 0;}#sk-0a3f3480-313b-48b3-82a7-f7fda1fce5c7 div.sk-dashed-wrapped {border: 1px dashed gray;margin: 0 0.4em 0.5em 0.4em;box-sizing: border-box;padding-bottom: 0.4em;background-color: white;position: relative;}#sk-0a3f3480-313b-48b3-82a7-f7fda1fce5c7 div.sk-label label {font-family: monospace;font-weight: bold;background-color: white;display: inline-block;line-height: 1.2em;}#sk-0a3f3480-313b-48b3-82a7-f7fda1fce5c7 div.sk-label-container {position: relative;z-index: 2;text-align: center;}#sk-0a3f3480-313b-48b3-82a7-f7fda1fce5c7 div.sk-container {/* jupyter's `normalize.less` sets `[hidden] { display: none; }` but bootstrap.min.css set `[hidden] { display: none !important; }` so we also need the `!important` here to be able to override the default hidden behavior on the sphinx rendered scikit-learn.org. See: https://github.com/scikit-learn/scikit-learn/issues/21755 */display: inline-block !important;position: relative;}#sk-0a3f3480-313b-48b3-82a7-f7fda1fce5c7 div.sk-text-repr-fallback {display: none;}</style><div id=\"sk-0a3f3480-313b-48b3-82a7-f7fda1fce5c7\" class=\"sk-top-container\"><div class=\"sk-text-repr-fallback\"><pre>HalvingGridSearchCV(cv=3,\n",
       "                    estimator=Pipeline(steps=[(&#x27;columntransformer&#x27;,\n",
       "                                               ColumnTransformer(transformers=[(&#x27;standardscaler&#x27;,\n",
       "                                                                                StandardScaler(),\n",
       "                                                                                [&#x27;RegistrationYear&#x27;,\n",
       "                                                                                 &#x27;Power&#x27;,\n",
       "                                                                                 &#x27;Mileage&#x27;]),\n",
       "                                                                               (&#x27;onehotencoder&#x27;,\n",
       "                                                                                OneHotEncoder(drop=&#x27;if_binary&#x27;,\n",
       "                                                                                              handle_unknown=&#x27;ignore&#x27;),\n",
       "                                                                                [&#x27;VehicleType&#x27;,\n",
       "                                                                                 &#x27;Gearbox&#x27;,\n",
       "                                                                                 &#x27;Model&#x27;,\n",
       "                                                                                 &#x27;FuelType&#x27;,\n",
       "                                                                                 &#x27;Brand&#x27;,\n",
       "                                                                                 &#x27;NotRepaired&#x27;])])),\n",
       "                                              (&#x27;elasticnet&#x27;,\n",
       "                                               ElasticNet(random_state=42))]),\n",
       "                    param_grid={&#x27;elasticnet__alpha&#x27;: [0.5, 1, 1.5],\n",
       "                                &#x27;elasticnet__l1_ratio&#x27;: [0.1, 0.5, 0.7, 0.9,\n",
       "                                                         0.95, 0.99, 1],\n",
       "                                &#x27;elasticnet__max_iter&#x27;: [10000]},\n",
       "                    random_state=42, scoring=&#x27;neg_mean_squared_error&#x27;)</pre><b>Please rerun this cell to show the HTML repr or trust the notebook.</b></div><div class=\"sk-container\" hidden><div class=\"sk-item sk-dashed-wrapped\"><div class=\"sk-label-container\"><div class=\"sk-label sk-toggleable\"><input class=\"sk-toggleable__control sk-hidden--visually\" id=\"cf45bb80-3e80-460d-bfcc-9ec4bdc3f533\" type=\"checkbox\" ><label for=\"cf45bb80-3e80-460d-bfcc-9ec4bdc3f533\" class=\"sk-toggleable__label sk-toggleable__label-arrow\">HalvingGridSearchCV</label><div class=\"sk-toggleable__content\"><pre>HalvingGridSearchCV(cv=3,\n",
       "                    estimator=Pipeline(steps=[(&#x27;columntransformer&#x27;,\n",
       "                                               ColumnTransformer(transformers=[(&#x27;standardscaler&#x27;,\n",
       "                                                                                StandardScaler(),\n",
       "                                                                                [&#x27;RegistrationYear&#x27;,\n",
       "                                                                                 &#x27;Power&#x27;,\n",
       "                                                                                 &#x27;Mileage&#x27;]),\n",
       "                                                                               (&#x27;onehotencoder&#x27;,\n",
       "                                                                                OneHotEncoder(drop=&#x27;if_binary&#x27;,\n",
       "                                                                                              handle_unknown=&#x27;ignore&#x27;),\n",
       "                                                                                [&#x27;VehicleType&#x27;,\n",
       "                                                                                 &#x27;Gearbox&#x27;,\n",
       "                                                                                 &#x27;Model&#x27;,\n",
       "                                                                                 &#x27;FuelType&#x27;,\n",
       "                                                                                 &#x27;Brand&#x27;,\n",
       "                                                                                 &#x27;NotRepaired&#x27;])])),\n",
       "                                              (&#x27;elasticnet&#x27;,\n",
       "                                               ElasticNet(random_state=42))]),\n",
       "                    param_grid={&#x27;elasticnet__alpha&#x27;: [0.5, 1, 1.5],\n",
       "                                &#x27;elasticnet__l1_ratio&#x27;: [0.1, 0.5, 0.7, 0.9,\n",
       "                                                         0.95, 0.99, 1],\n",
       "                                &#x27;elasticnet__max_iter&#x27;: [10000]},\n",
       "                    random_state=42, scoring=&#x27;neg_mean_squared_error&#x27;)</pre></div></div></div><div class=\"sk-parallel\"><div class=\"sk-parallel-item\"><div class=\"sk-item\"><div class=\"sk-serial\"><div class=\"sk-item\"><div class=\"sk-serial\"><div class=\"sk-item sk-dashed-wrapped\"><div class=\"sk-label-container\"><div class=\"sk-label sk-toggleable\"><input class=\"sk-toggleable__control sk-hidden--visually\" id=\"b38c3e48-ae76-4b2f-9615-d5c4cbe8e5e4\" type=\"checkbox\" ><label for=\"b38c3e48-ae76-4b2f-9615-d5c4cbe8e5e4\" class=\"sk-toggleable__label sk-toggleable__label-arrow\">columntransformer: ColumnTransformer</label><div class=\"sk-toggleable__content\"><pre>ColumnTransformer(transformers=[(&#x27;standardscaler&#x27;, StandardScaler(),\n",
       "                                 [&#x27;RegistrationYear&#x27;, &#x27;Power&#x27;, &#x27;Mileage&#x27;]),\n",
       "                                (&#x27;onehotencoder&#x27;,\n",
       "                                 OneHotEncoder(drop=&#x27;if_binary&#x27;,\n",
       "                                               handle_unknown=&#x27;ignore&#x27;),\n",
       "                                 [&#x27;VehicleType&#x27;, &#x27;Gearbox&#x27;, &#x27;Model&#x27;, &#x27;FuelType&#x27;,\n",
       "                                  &#x27;Brand&#x27;, &#x27;NotRepaired&#x27;])])</pre></div></div></div><div class=\"sk-parallel\"><div class=\"sk-parallel-item\"><div class=\"sk-item\"><div class=\"sk-label-container\"><div class=\"sk-label sk-toggleable\"><input class=\"sk-toggleable__control sk-hidden--visually\" id=\"46b520a9-9906-45fe-b97f-b72a99fe251a\" type=\"checkbox\" ><label for=\"46b520a9-9906-45fe-b97f-b72a99fe251a\" class=\"sk-toggleable__label sk-toggleable__label-arrow\">standardscaler</label><div class=\"sk-toggleable__content\"><pre>[&#x27;RegistrationYear&#x27;, &#x27;Power&#x27;, &#x27;Mileage&#x27;]</pre></div></div></div><div class=\"sk-serial\"><div class=\"sk-item\"><div class=\"sk-estimator sk-toggleable\"><input class=\"sk-toggleable__control sk-hidden--visually\" id=\"d97b47e0-772b-4eff-a237-e4f77ecced14\" type=\"checkbox\" ><label for=\"d97b47e0-772b-4eff-a237-e4f77ecced14\" class=\"sk-toggleable__label sk-toggleable__label-arrow\">StandardScaler</label><div class=\"sk-toggleable__content\"><pre>StandardScaler()</pre></div></div></div></div></div></div><div class=\"sk-parallel-item\"><div class=\"sk-item\"><div class=\"sk-label-container\"><div class=\"sk-label sk-toggleable\"><input class=\"sk-toggleable__control sk-hidden--visually\" id=\"4e82b682-8b74-4079-b27d-9ce4dd291c0d\" type=\"checkbox\" ><label for=\"4e82b682-8b74-4079-b27d-9ce4dd291c0d\" class=\"sk-toggleable__label sk-toggleable__label-arrow\">onehotencoder</label><div class=\"sk-toggleable__content\"><pre>[&#x27;VehicleType&#x27;, &#x27;Gearbox&#x27;, &#x27;Model&#x27;, &#x27;FuelType&#x27;, &#x27;Brand&#x27;, &#x27;NotRepaired&#x27;]</pre></div></div></div><div class=\"sk-serial\"><div class=\"sk-item\"><div class=\"sk-estimator sk-toggleable\"><input class=\"sk-toggleable__control sk-hidden--visually\" id=\"29cfd3ee-a6c2-4c7e-a043-55233431b404\" type=\"checkbox\" ><label for=\"29cfd3ee-a6c2-4c7e-a043-55233431b404\" class=\"sk-toggleable__label sk-toggleable__label-arrow\">OneHotEncoder</label><div class=\"sk-toggleable__content\"><pre>OneHotEncoder(drop=&#x27;if_binary&#x27;, handle_unknown=&#x27;ignore&#x27;)</pre></div></div></div></div></div></div></div></div><div class=\"sk-item\"><div class=\"sk-estimator sk-toggleable\"><input class=\"sk-toggleable__control sk-hidden--visually\" id=\"028313f3-aba6-4d3a-b633-672da9a6b765\" type=\"checkbox\" ><label for=\"028313f3-aba6-4d3a-b633-672da9a6b765\" class=\"sk-toggleable__label sk-toggleable__label-arrow\">ElasticNet</label><div class=\"sk-toggleable__content\"><pre>ElasticNet(random_state=42)</pre></div></div></div></div></div></div></div></div></div></div></div></div>"
      ],
      "text/plain": [
       "HalvingGridSearchCV(cv=3,\n",
       "                    estimator=Pipeline(steps=[('columntransformer',\n",
       "                                               ColumnTransformer(transformers=[('standardscaler',\n",
       "                                                                                StandardScaler(),\n",
       "                                                                                ['RegistrationYear',\n",
       "                                                                                 'Power',\n",
       "                                                                                 'Mileage']),\n",
       "                                                                               ('onehotencoder',\n",
       "                                                                                OneHotEncoder(drop='if_binary',\n",
       "                                                                                              handle_unknown='ignore'),\n",
       "                                                                                ['VehicleType',\n",
       "                                                                                 'Gearbox',\n",
       "                                                                                 'Model',\n",
       "                                                                                 'FuelType',\n",
       "                                                                                 'Brand',\n",
       "                                                                                 'NotRepaired'])])),\n",
       "                                              ('elasticnet',\n",
       "                                               ElasticNet(random_state=42))]),\n",
       "                    param_grid={'elasticnet__alpha': [0.5, 1, 1.5],\n",
       "                                'elasticnet__l1_ratio': [0.1, 0.5, 0.7, 0.9,\n",
       "                                                         0.95, 0.99, 1],\n",
       "                                'elasticnet__max_iter': [10000]},\n",
       "                    random_state=42, scoring='neg_mean_squared_error')"
      ]
     },
     "execution_count": 25,
     "metadata": {},
     "output_type": "execute_result"
    }
   ],
   "source": [
    "elasticNet= HalvingGridSearchCV(elastic_pipeline, param_grid= params, cv=3, scoring='neg_mean_squared_error', random_state=42)\n",
    "elasticNet.fit(X_train, y_train)"
   ]
  },
  {
   "cell_type": "code",
   "execution_count": 26,
   "metadata": {},
   "outputs": [
    {
     "name": "stdout",
     "output_type": "stream",
     "text": [
      "rmse of elastic_pipeline: 1939.5\n"
     ]
    }
   ],
   "source": [
    "elasticNet_score= np.sqrt(-elasticNet.best_score_).round(1)\n",
    "print('rmse of elastic_pipeline:', elasticNet_score)"
   ]
  },
  {
   "cell_type": "code",
   "execution_count": 27,
   "metadata": {},
   "outputs": [
    {
     "name": "stdout",
     "output_type": "stream",
     "text": [
      "best hyperparameters: {'elasticnet__alpha': 0.5, 'elasticnet__l1_ratio': 1, 'elasticnet__max_iter': 10000}\n"
     ]
    }
   ],
   "source": [
    "print('best hyperparameters:', elasticNet.best_params_)"
   ]
  },
  {
   "cell_type": "code",
   "execution_count": 28,
   "metadata": {},
   "outputs": [
    {
     "name": "stdout",
     "output_type": "stream",
     "text": [
      "runtime: 0.1\n",
      "rmse of elastic_pipeline test score: 1938.5\n"
     ]
    }
   ],
   "source": [
    "start = t.time()\n",
    "elasticNet_prediction= elasticNet.predict(X_test)\n",
    "end= t.time()\n",
    "print('runtime:', round((end - start), 1))\n",
    "test_score_elasticNet= np.sqrt(mean_squared_error(y_test, elasticNet_prediction)).round(1)\n",
    "print('rmse of elastic_pipeline test score:', test_score_elasticNet)"
   ]
  },
  {
   "cell_type": "markdown",
   "metadata": {},
   "source": [
    "#### RandomForestRegressor"
   ]
  },
  {
   "cell_type": "code",
   "execution_count": 29,
   "metadata": {},
   "outputs": [],
   "source": [
    "randomForest_model= RandomForestRegressor(random_state=42)\n",
    "randomForest_pipeline= make_pipeline(preprocessor, randomForest_model)"
   ]
  },
  {
   "cell_type": "code",
   "execution_count": 30,
   "metadata": {},
   "outputs": [],
   "source": [
    "#randomForest_pipeline.get_params().keys()"
   ]
  },
  {
   "cell_type": "code",
   "execution_count": 31,
   "metadata": {},
   "outputs": [],
   "source": [
    "params= dict(randomforestregressor__n_estimators=[50, 100], randomforestregressor__max_depth= [3,5])"
   ]
  },
  {
   "cell_type": "code",
   "execution_count": 32,
   "metadata": {},
   "outputs": [
    {
     "data": {
      "text/html": [
       "<style>#sk-fb8a4413-6e3d-4d52-be30-10342482fb0e {color: black;background-color: white;}#sk-fb8a4413-6e3d-4d52-be30-10342482fb0e pre{padding: 0;}#sk-fb8a4413-6e3d-4d52-be30-10342482fb0e div.sk-toggleable {background-color: white;}#sk-fb8a4413-6e3d-4d52-be30-10342482fb0e label.sk-toggleable__label {cursor: pointer;display: block;width: 100%;margin-bottom: 0;padding: 0.3em;box-sizing: border-box;text-align: center;}#sk-fb8a4413-6e3d-4d52-be30-10342482fb0e label.sk-toggleable__label-arrow:before {content: \"▸\";float: left;margin-right: 0.25em;color: #696969;}#sk-fb8a4413-6e3d-4d52-be30-10342482fb0e label.sk-toggleable__label-arrow:hover:before {color: black;}#sk-fb8a4413-6e3d-4d52-be30-10342482fb0e div.sk-estimator:hover label.sk-toggleable__label-arrow:before {color: black;}#sk-fb8a4413-6e3d-4d52-be30-10342482fb0e div.sk-toggleable__content {max-height: 0;max-width: 0;overflow: hidden;text-align: left;background-color: #f0f8ff;}#sk-fb8a4413-6e3d-4d52-be30-10342482fb0e div.sk-toggleable__content pre {margin: 0.2em;color: black;border-radius: 0.25em;background-color: #f0f8ff;}#sk-fb8a4413-6e3d-4d52-be30-10342482fb0e input.sk-toggleable__control:checked~div.sk-toggleable__content {max-height: 200px;max-width: 100%;overflow: auto;}#sk-fb8a4413-6e3d-4d52-be30-10342482fb0e input.sk-toggleable__control:checked~label.sk-toggleable__label-arrow:before {content: \"▾\";}#sk-fb8a4413-6e3d-4d52-be30-10342482fb0e div.sk-estimator input.sk-toggleable__control:checked~label.sk-toggleable__label {background-color: #d4ebff;}#sk-fb8a4413-6e3d-4d52-be30-10342482fb0e div.sk-label input.sk-toggleable__control:checked~label.sk-toggleable__label {background-color: #d4ebff;}#sk-fb8a4413-6e3d-4d52-be30-10342482fb0e input.sk-hidden--visually {border: 0;clip: rect(1px 1px 1px 1px);clip: rect(1px, 1px, 1px, 1px);height: 1px;margin: -1px;overflow: hidden;padding: 0;position: absolute;width: 1px;}#sk-fb8a4413-6e3d-4d52-be30-10342482fb0e div.sk-estimator {font-family: monospace;background-color: #f0f8ff;border: 1px dotted black;border-radius: 0.25em;box-sizing: border-box;margin-bottom: 0.5em;}#sk-fb8a4413-6e3d-4d52-be30-10342482fb0e div.sk-estimator:hover {background-color: #d4ebff;}#sk-fb8a4413-6e3d-4d52-be30-10342482fb0e div.sk-parallel-item::after {content: \"\";width: 100%;border-bottom: 1px solid gray;flex-grow: 1;}#sk-fb8a4413-6e3d-4d52-be30-10342482fb0e div.sk-label:hover label.sk-toggleable__label {background-color: #d4ebff;}#sk-fb8a4413-6e3d-4d52-be30-10342482fb0e div.sk-serial::before {content: \"\";position: absolute;border-left: 1px solid gray;box-sizing: border-box;top: 2em;bottom: 0;left: 50%;}#sk-fb8a4413-6e3d-4d52-be30-10342482fb0e div.sk-serial {display: flex;flex-direction: column;align-items: center;background-color: white;padding-right: 0.2em;padding-left: 0.2em;}#sk-fb8a4413-6e3d-4d52-be30-10342482fb0e div.sk-item {z-index: 1;}#sk-fb8a4413-6e3d-4d52-be30-10342482fb0e div.sk-parallel {display: flex;align-items: stretch;justify-content: center;background-color: white;}#sk-fb8a4413-6e3d-4d52-be30-10342482fb0e div.sk-parallel::before {content: \"\";position: absolute;border-left: 1px solid gray;box-sizing: border-box;top: 2em;bottom: 0;left: 50%;}#sk-fb8a4413-6e3d-4d52-be30-10342482fb0e div.sk-parallel-item {display: flex;flex-direction: column;position: relative;background-color: white;}#sk-fb8a4413-6e3d-4d52-be30-10342482fb0e div.sk-parallel-item:first-child::after {align-self: flex-end;width: 50%;}#sk-fb8a4413-6e3d-4d52-be30-10342482fb0e div.sk-parallel-item:last-child::after {align-self: flex-start;width: 50%;}#sk-fb8a4413-6e3d-4d52-be30-10342482fb0e div.sk-parallel-item:only-child::after {width: 0;}#sk-fb8a4413-6e3d-4d52-be30-10342482fb0e div.sk-dashed-wrapped {border: 1px dashed gray;margin: 0 0.4em 0.5em 0.4em;box-sizing: border-box;padding-bottom: 0.4em;background-color: white;position: relative;}#sk-fb8a4413-6e3d-4d52-be30-10342482fb0e div.sk-label label {font-family: monospace;font-weight: bold;background-color: white;display: inline-block;line-height: 1.2em;}#sk-fb8a4413-6e3d-4d52-be30-10342482fb0e div.sk-label-container {position: relative;z-index: 2;text-align: center;}#sk-fb8a4413-6e3d-4d52-be30-10342482fb0e div.sk-container {/* jupyter's `normalize.less` sets `[hidden] { display: none; }` but bootstrap.min.css set `[hidden] { display: none !important; }` so we also need the `!important` here to be able to override the default hidden behavior on the sphinx rendered scikit-learn.org. See: https://github.com/scikit-learn/scikit-learn/issues/21755 */display: inline-block !important;position: relative;}#sk-fb8a4413-6e3d-4d52-be30-10342482fb0e div.sk-text-repr-fallback {display: none;}</style><div id=\"sk-fb8a4413-6e3d-4d52-be30-10342482fb0e\" class=\"sk-top-container\"><div class=\"sk-text-repr-fallback\"><pre>HalvingGridSearchCV(cv=3,\n",
       "                    estimator=Pipeline(steps=[(&#x27;columntransformer&#x27;,\n",
       "                                               ColumnTransformer(transformers=[(&#x27;standardscaler&#x27;,\n",
       "                                                                                StandardScaler(),\n",
       "                                                                                [&#x27;RegistrationYear&#x27;,\n",
       "                                                                                 &#x27;Power&#x27;,\n",
       "                                                                                 &#x27;Mileage&#x27;]),\n",
       "                                                                               (&#x27;onehotencoder&#x27;,\n",
       "                                                                                OneHotEncoder(drop=&#x27;if_binary&#x27;,\n",
       "                                                                                              handle_unknown=&#x27;ignore&#x27;),\n",
       "                                                                                [&#x27;VehicleType&#x27;,\n",
       "                                                                                 &#x27;Gearbox&#x27;,\n",
       "                                                                                 &#x27;Model&#x27;,\n",
       "                                                                                 &#x27;FuelType&#x27;,\n",
       "                                                                                 &#x27;Brand&#x27;,\n",
       "                                                                                 &#x27;NotRepaired&#x27;])])),\n",
       "                                              (&#x27;randomforestregressor&#x27;,\n",
       "                                               RandomForestRegressor(random_state=42))]),\n",
       "                    param_grid={&#x27;randomforestregressor__max_depth&#x27;: [3, 5],\n",
       "                                &#x27;randomforestregressor__n_estimators&#x27;: [50,\n",
       "                                                                        100]},\n",
       "                    random_state=42, scoring=&#x27;neg_mean_squared_error&#x27;)</pre><b>Please rerun this cell to show the HTML repr or trust the notebook.</b></div><div class=\"sk-container\" hidden><div class=\"sk-item sk-dashed-wrapped\"><div class=\"sk-label-container\"><div class=\"sk-label sk-toggleable\"><input class=\"sk-toggleable__control sk-hidden--visually\" id=\"f5abc00e-a8e1-4ba4-9a2f-d84893410830\" type=\"checkbox\" ><label for=\"f5abc00e-a8e1-4ba4-9a2f-d84893410830\" class=\"sk-toggleable__label sk-toggleable__label-arrow\">HalvingGridSearchCV</label><div class=\"sk-toggleable__content\"><pre>HalvingGridSearchCV(cv=3,\n",
       "                    estimator=Pipeline(steps=[(&#x27;columntransformer&#x27;,\n",
       "                                               ColumnTransformer(transformers=[(&#x27;standardscaler&#x27;,\n",
       "                                                                                StandardScaler(),\n",
       "                                                                                [&#x27;RegistrationYear&#x27;,\n",
       "                                                                                 &#x27;Power&#x27;,\n",
       "                                                                                 &#x27;Mileage&#x27;]),\n",
       "                                                                               (&#x27;onehotencoder&#x27;,\n",
       "                                                                                OneHotEncoder(drop=&#x27;if_binary&#x27;,\n",
       "                                                                                              handle_unknown=&#x27;ignore&#x27;),\n",
       "                                                                                [&#x27;VehicleType&#x27;,\n",
       "                                                                                 &#x27;Gearbox&#x27;,\n",
       "                                                                                 &#x27;Model&#x27;,\n",
       "                                                                                 &#x27;FuelType&#x27;,\n",
       "                                                                                 &#x27;Brand&#x27;,\n",
       "                                                                                 &#x27;NotRepaired&#x27;])])),\n",
       "                                              (&#x27;randomforestregressor&#x27;,\n",
       "                                               RandomForestRegressor(random_state=42))]),\n",
       "                    param_grid={&#x27;randomforestregressor__max_depth&#x27;: [3, 5],\n",
       "                                &#x27;randomforestregressor__n_estimators&#x27;: [50,\n",
       "                                                                        100]},\n",
       "                    random_state=42, scoring=&#x27;neg_mean_squared_error&#x27;)</pre></div></div></div><div class=\"sk-parallel\"><div class=\"sk-parallel-item\"><div class=\"sk-item\"><div class=\"sk-serial\"><div class=\"sk-item\"><div class=\"sk-serial\"><div class=\"sk-item sk-dashed-wrapped\"><div class=\"sk-label-container\"><div class=\"sk-label sk-toggleable\"><input class=\"sk-toggleable__control sk-hidden--visually\" id=\"6b0330b8-2f62-4294-bba4-5c04546918d4\" type=\"checkbox\" ><label for=\"6b0330b8-2f62-4294-bba4-5c04546918d4\" class=\"sk-toggleable__label sk-toggleable__label-arrow\">columntransformer: ColumnTransformer</label><div class=\"sk-toggleable__content\"><pre>ColumnTransformer(transformers=[(&#x27;standardscaler&#x27;, StandardScaler(),\n",
       "                                 [&#x27;RegistrationYear&#x27;, &#x27;Power&#x27;, &#x27;Mileage&#x27;]),\n",
       "                                (&#x27;onehotencoder&#x27;,\n",
       "                                 OneHotEncoder(drop=&#x27;if_binary&#x27;,\n",
       "                                               handle_unknown=&#x27;ignore&#x27;),\n",
       "                                 [&#x27;VehicleType&#x27;, &#x27;Gearbox&#x27;, &#x27;Model&#x27;, &#x27;FuelType&#x27;,\n",
       "                                  &#x27;Brand&#x27;, &#x27;NotRepaired&#x27;])])</pre></div></div></div><div class=\"sk-parallel\"><div class=\"sk-parallel-item\"><div class=\"sk-item\"><div class=\"sk-label-container\"><div class=\"sk-label sk-toggleable\"><input class=\"sk-toggleable__control sk-hidden--visually\" id=\"f0053051-ff4d-49cd-95a8-2a6b230b320a\" type=\"checkbox\" ><label for=\"f0053051-ff4d-49cd-95a8-2a6b230b320a\" class=\"sk-toggleable__label sk-toggleable__label-arrow\">standardscaler</label><div class=\"sk-toggleable__content\"><pre>[&#x27;RegistrationYear&#x27;, &#x27;Power&#x27;, &#x27;Mileage&#x27;]</pre></div></div></div><div class=\"sk-serial\"><div class=\"sk-item\"><div class=\"sk-estimator sk-toggleable\"><input class=\"sk-toggleable__control sk-hidden--visually\" id=\"b7a0e749-84e8-4529-b1c7-91ec17e3b0e1\" type=\"checkbox\" ><label for=\"b7a0e749-84e8-4529-b1c7-91ec17e3b0e1\" class=\"sk-toggleable__label sk-toggleable__label-arrow\">StandardScaler</label><div class=\"sk-toggleable__content\"><pre>StandardScaler()</pre></div></div></div></div></div></div><div class=\"sk-parallel-item\"><div class=\"sk-item\"><div class=\"sk-label-container\"><div class=\"sk-label sk-toggleable\"><input class=\"sk-toggleable__control sk-hidden--visually\" id=\"05c86f53-e4db-4f45-a7d8-dd9a162f0c8f\" type=\"checkbox\" ><label for=\"05c86f53-e4db-4f45-a7d8-dd9a162f0c8f\" class=\"sk-toggleable__label sk-toggleable__label-arrow\">onehotencoder</label><div class=\"sk-toggleable__content\"><pre>[&#x27;VehicleType&#x27;, &#x27;Gearbox&#x27;, &#x27;Model&#x27;, &#x27;FuelType&#x27;, &#x27;Brand&#x27;, &#x27;NotRepaired&#x27;]</pre></div></div></div><div class=\"sk-serial\"><div class=\"sk-item\"><div class=\"sk-estimator sk-toggleable\"><input class=\"sk-toggleable__control sk-hidden--visually\" id=\"41a1342d-8c41-41fd-b39a-78b18a458f58\" type=\"checkbox\" ><label for=\"41a1342d-8c41-41fd-b39a-78b18a458f58\" class=\"sk-toggleable__label sk-toggleable__label-arrow\">OneHotEncoder</label><div class=\"sk-toggleable__content\"><pre>OneHotEncoder(drop=&#x27;if_binary&#x27;, handle_unknown=&#x27;ignore&#x27;)</pre></div></div></div></div></div></div></div></div><div class=\"sk-item\"><div class=\"sk-estimator sk-toggleable\"><input class=\"sk-toggleable__control sk-hidden--visually\" id=\"641c7e95-fd5f-4e6c-aeae-288d8e1fddaf\" type=\"checkbox\" ><label for=\"641c7e95-fd5f-4e6c-aeae-288d8e1fddaf\" class=\"sk-toggleable__label sk-toggleable__label-arrow\">RandomForestRegressor</label><div class=\"sk-toggleable__content\"><pre>RandomForestRegressor(random_state=42)</pre></div></div></div></div></div></div></div></div></div></div></div></div>"
      ],
      "text/plain": [
       "HalvingGridSearchCV(cv=3,\n",
       "                    estimator=Pipeline(steps=[('columntransformer',\n",
       "                                               ColumnTransformer(transformers=[('standardscaler',\n",
       "                                                                                StandardScaler(),\n",
       "                                                                                ['RegistrationYear',\n",
       "                                                                                 'Power',\n",
       "                                                                                 'Mileage']),\n",
       "                                                                               ('onehotencoder',\n",
       "                                                                                OneHotEncoder(drop='if_binary',\n",
       "                                                                                              handle_unknown='ignore'),\n",
       "                                                                                ['VehicleType',\n",
       "                                                                                 'Gearbox',\n",
       "                                                                                 'Model',\n",
       "                                                                                 'FuelType',\n",
       "                                                                                 'Brand',\n",
       "                                                                                 'NotRepaired'])])),\n",
       "                                              ('randomforestregressor',\n",
       "                                               RandomForestRegressor(random_state=42))]),\n",
       "                    param_grid={'randomforestregressor__max_depth': [3, 5],\n",
       "                                'randomforestregressor__n_estimators': [50,\n",
       "                                                                        100]},\n",
       "                    random_state=42, scoring='neg_mean_squared_error')"
      ]
     },
     "execution_count": 32,
     "metadata": {},
     "output_type": "execute_result"
    }
   ],
   "source": [
    "randomForest= HalvingGridSearchCV(randomForest_pipeline, param_grid= params, cv=3, scoring='neg_mean_squared_error', random_state=42)\n",
    "randomForest.fit(X_train, y_train)"
   ]
  },
  {
   "cell_type": "code",
   "execution_count": 33,
   "metadata": {},
   "outputs": [],
   "source": [
    "#sklearn.metrics.SCORERS.keys()"
   ]
  },
  {
   "cell_type": "code",
   "execution_count": 34,
   "metadata": {},
   "outputs": [
    {
     "name": "stdout",
     "output_type": "stream",
     "text": [
      "rmse of randomForest_pipeline: 1884.5\n"
     ]
    }
   ],
   "source": [
    "randomForest_score= np.sqrt(-randomForest.best_score_).round(1)\n",
    "print('rmse of randomForest_pipeline:', randomForest_score)"
   ]
  },
  {
   "cell_type": "code",
   "execution_count": 35,
   "metadata": {},
   "outputs": [
    {
     "name": "stdout",
     "output_type": "stream",
     "text": [
      "best hyperparameters: {'randomforestregressor__max_depth': 5, 'randomforestregressor__n_estimators': 100}\n"
     ]
    }
   ],
   "source": [
    "print('best hyperparameters:', randomForest.best_params_)"
   ]
  },
  {
   "cell_type": "code",
   "execution_count": 36,
   "metadata": {},
   "outputs": [
    {
     "name": "stdout",
     "output_type": "stream",
     "text": [
      "runtime: 0.4\n",
      "rmse of randomForest_pipeline test score: 1870.0\n"
     ]
    }
   ],
   "source": [
    "start = t.time()\n",
    "randomForest_prediction= randomForest.predict(X_test)\n",
    "end= t.time()\n",
    "print('runtime:', round((end - start), 1))\n",
    "test_score_randomForest= np.sqrt(mean_squared_error(y_test, randomForest_prediction)).round(1)\n",
    "print('rmse of randomForest_pipeline test score:', test_score_randomForest)"
   ]
  },
  {
   "cell_type": "markdown",
   "metadata": {},
   "source": [
    "#### AdaBoostRegressor"
   ]
  },
  {
   "cell_type": "code",
   "execution_count": 37,
   "metadata": {},
   "outputs": [],
   "source": [
    "adaBoost_model= AdaBoostRegressor(random_state=42)\n",
    "adaBoost_pipeline= make_pipeline(preprocessor, adaBoost_model)"
   ]
  },
  {
   "cell_type": "code",
   "execution_count": 38,
   "metadata": {},
   "outputs": [],
   "source": [
    "#adaBoost_pipeline.get_params().keys()"
   ]
  },
  {
   "cell_type": "code",
   "execution_count": 39,
   "metadata": {},
   "outputs": [],
   "source": [
    "params= dict(adaboostregressor__n_estimators=[50, 100], adaboostregressor__learning_rate= [ 0.01, 0.2])"
   ]
  },
  {
   "cell_type": "code",
   "execution_count": 40,
   "metadata": {},
   "outputs": [
    {
     "data": {
      "text/html": [
       "<style>#sk-d7ff5043-fd56-460c-80ed-ec58d37a8eb3 {color: black;background-color: white;}#sk-d7ff5043-fd56-460c-80ed-ec58d37a8eb3 pre{padding: 0;}#sk-d7ff5043-fd56-460c-80ed-ec58d37a8eb3 div.sk-toggleable {background-color: white;}#sk-d7ff5043-fd56-460c-80ed-ec58d37a8eb3 label.sk-toggleable__label {cursor: pointer;display: block;width: 100%;margin-bottom: 0;padding: 0.3em;box-sizing: border-box;text-align: center;}#sk-d7ff5043-fd56-460c-80ed-ec58d37a8eb3 label.sk-toggleable__label-arrow:before {content: \"▸\";float: left;margin-right: 0.25em;color: #696969;}#sk-d7ff5043-fd56-460c-80ed-ec58d37a8eb3 label.sk-toggleable__label-arrow:hover:before {color: black;}#sk-d7ff5043-fd56-460c-80ed-ec58d37a8eb3 div.sk-estimator:hover label.sk-toggleable__label-arrow:before {color: black;}#sk-d7ff5043-fd56-460c-80ed-ec58d37a8eb3 div.sk-toggleable__content {max-height: 0;max-width: 0;overflow: hidden;text-align: left;background-color: #f0f8ff;}#sk-d7ff5043-fd56-460c-80ed-ec58d37a8eb3 div.sk-toggleable__content pre {margin: 0.2em;color: black;border-radius: 0.25em;background-color: #f0f8ff;}#sk-d7ff5043-fd56-460c-80ed-ec58d37a8eb3 input.sk-toggleable__control:checked~div.sk-toggleable__content {max-height: 200px;max-width: 100%;overflow: auto;}#sk-d7ff5043-fd56-460c-80ed-ec58d37a8eb3 input.sk-toggleable__control:checked~label.sk-toggleable__label-arrow:before {content: \"▾\";}#sk-d7ff5043-fd56-460c-80ed-ec58d37a8eb3 div.sk-estimator input.sk-toggleable__control:checked~label.sk-toggleable__label {background-color: #d4ebff;}#sk-d7ff5043-fd56-460c-80ed-ec58d37a8eb3 div.sk-label input.sk-toggleable__control:checked~label.sk-toggleable__label {background-color: #d4ebff;}#sk-d7ff5043-fd56-460c-80ed-ec58d37a8eb3 input.sk-hidden--visually {border: 0;clip: rect(1px 1px 1px 1px);clip: rect(1px, 1px, 1px, 1px);height: 1px;margin: -1px;overflow: hidden;padding: 0;position: absolute;width: 1px;}#sk-d7ff5043-fd56-460c-80ed-ec58d37a8eb3 div.sk-estimator {font-family: monospace;background-color: #f0f8ff;border: 1px dotted black;border-radius: 0.25em;box-sizing: border-box;margin-bottom: 0.5em;}#sk-d7ff5043-fd56-460c-80ed-ec58d37a8eb3 div.sk-estimator:hover {background-color: #d4ebff;}#sk-d7ff5043-fd56-460c-80ed-ec58d37a8eb3 div.sk-parallel-item::after {content: \"\";width: 100%;border-bottom: 1px solid gray;flex-grow: 1;}#sk-d7ff5043-fd56-460c-80ed-ec58d37a8eb3 div.sk-label:hover label.sk-toggleable__label {background-color: #d4ebff;}#sk-d7ff5043-fd56-460c-80ed-ec58d37a8eb3 div.sk-serial::before {content: \"\";position: absolute;border-left: 1px solid gray;box-sizing: border-box;top: 2em;bottom: 0;left: 50%;}#sk-d7ff5043-fd56-460c-80ed-ec58d37a8eb3 div.sk-serial {display: flex;flex-direction: column;align-items: center;background-color: white;padding-right: 0.2em;padding-left: 0.2em;}#sk-d7ff5043-fd56-460c-80ed-ec58d37a8eb3 div.sk-item {z-index: 1;}#sk-d7ff5043-fd56-460c-80ed-ec58d37a8eb3 div.sk-parallel {display: flex;align-items: stretch;justify-content: center;background-color: white;}#sk-d7ff5043-fd56-460c-80ed-ec58d37a8eb3 div.sk-parallel::before {content: \"\";position: absolute;border-left: 1px solid gray;box-sizing: border-box;top: 2em;bottom: 0;left: 50%;}#sk-d7ff5043-fd56-460c-80ed-ec58d37a8eb3 div.sk-parallel-item {display: flex;flex-direction: column;position: relative;background-color: white;}#sk-d7ff5043-fd56-460c-80ed-ec58d37a8eb3 div.sk-parallel-item:first-child::after {align-self: flex-end;width: 50%;}#sk-d7ff5043-fd56-460c-80ed-ec58d37a8eb3 div.sk-parallel-item:last-child::after {align-self: flex-start;width: 50%;}#sk-d7ff5043-fd56-460c-80ed-ec58d37a8eb3 div.sk-parallel-item:only-child::after {width: 0;}#sk-d7ff5043-fd56-460c-80ed-ec58d37a8eb3 div.sk-dashed-wrapped {border: 1px dashed gray;margin: 0 0.4em 0.5em 0.4em;box-sizing: border-box;padding-bottom: 0.4em;background-color: white;position: relative;}#sk-d7ff5043-fd56-460c-80ed-ec58d37a8eb3 div.sk-label label {font-family: monospace;font-weight: bold;background-color: white;display: inline-block;line-height: 1.2em;}#sk-d7ff5043-fd56-460c-80ed-ec58d37a8eb3 div.sk-label-container {position: relative;z-index: 2;text-align: center;}#sk-d7ff5043-fd56-460c-80ed-ec58d37a8eb3 div.sk-container {/* jupyter's `normalize.less` sets `[hidden] { display: none; }` but bootstrap.min.css set `[hidden] { display: none !important; }` so we also need the `!important` here to be able to override the default hidden behavior on the sphinx rendered scikit-learn.org. See: https://github.com/scikit-learn/scikit-learn/issues/21755 */display: inline-block !important;position: relative;}#sk-d7ff5043-fd56-460c-80ed-ec58d37a8eb3 div.sk-text-repr-fallback {display: none;}</style><div id=\"sk-d7ff5043-fd56-460c-80ed-ec58d37a8eb3\" class=\"sk-top-container\"><div class=\"sk-text-repr-fallback\"><pre>HalvingGridSearchCV(cv=3,\n",
       "                    estimator=Pipeline(steps=[(&#x27;columntransformer&#x27;,\n",
       "                                               ColumnTransformer(transformers=[(&#x27;standardscaler&#x27;,\n",
       "                                                                                StandardScaler(),\n",
       "                                                                                [&#x27;RegistrationYear&#x27;,\n",
       "                                                                                 &#x27;Power&#x27;,\n",
       "                                                                                 &#x27;Mileage&#x27;]),\n",
       "                                                                               (&#x27;onehotencoder&#x27;,\n",
       "                                                                                OneHotEncoder(drop=&#x27;if_binary&#x27;,\n",
       "                                                                                              handle_unknown=&#x27;ignore&#x27;),\n",
       "                                                                                [&#x27;VehicleType&#x27;,\n",
       "                                                                                 &#x27;Gearbox&#x27;,\n",
       "                                                                                 &#x27;Model&#x27;,\n",
       "                                                                                 &#x27;FuelType&#x27;,\n",
       "                                                                                 &#x27;Brand&#x27;,\n",
       "                                                                                 &#x27;NotRepaired&#x27;])])),\n",
       "                                              (&#x27;adaboostregressor&#x27;,\n",
       "                                               AdaBoostRegressor(random_state=42))]),\n",
       "                    param_grid={&#x27;adaboostregressor__learning_rate&#x27;: [0.01, 0.2],\n",
       "                                &#x27;adaboostregressor__n_estimators&#x27;: [50, 100]},\n",
       "                    random_state=42, scoring=&#x27;neg_mean_squared_error&#x27;)</pre><b>Please rerun this cell to show the HTML repr or trust the notebook.</b></div><div class=\"sk-container\" hidden><div class=\"sk-item sk-dashed-wrapped\"><div class=\"sk-label-container\"><div class=\"sk-label sk-toggleable\"><input class=\"sk-toggleable__control sk-hidden--visually\" id=\"94cab692-8376-4cc9-808a-25c9e1b04958\" type=\"checkbox\" ><label for=\"94cab692-8376-4cc9-808a-25c9e1b04958\" class=\"sk-toggleable__label sk-toggleable__label-arrow\">HalvingGridSearchCV</label><div class=\"sk-toggleable__content\"><pre>HalvingGridSearchCV(cv=3,\n",
       "                    estimator=Pipeline(steps=[(&#x27;columntransformer&#x27;,\n",
       "                                               ColumnTransformer(transformers=[(&#x27;standardscaler&#x27;,\n",
       "                                                                                StandardScaler(),\n",
       "                                                                                [&#x27;RegistrationYear&#x27;,\n",
       "                                                                                 &#x27;Power&#x27;,\n",
       "                                                                                 &#x27;Mileage&#x27;]),\n",
       "                                                                               (&#x27;onehotencoder&#x27;,\n",
       "                                                                                OneHotEncoder(drop=&#x27;if_binary&#x27;,\n",
       "                                                                                              handle_unknown=&#x27;ignore&#x27;),\n",
       "                                                                                [&#x27;VehicleType&#x27;,\n",
       "                                                                                 &#x27;Gearbox&#x27;,\n",
       "                                                                                 &#x27;Model&#x27;,\n",
       "                                                                                 &#x27;FuelType&#x27;,\n",
       "                                                                                 &#x27;Brand&#x27;,\n",
       "                                                                                 &#x27;NotRepaired&#x27;])])),\n",
       "                                              (&#x27;adaboostregressor&#x27;,\n",
       "                                               AdaBoostRegressor(random_state=42))]),\n",
       "                    param_grid={&#x27;adaboostregressor__learning_rate&#x27;: [0.01, 0.2],\n",
       "                                &#x27;adaboostregressor__n_estimators&#x27;: [50, 100]},\n",
       "                    random_state=42, scoring=&#x27;neg_mean_squared_error&#x27;)</pre></div></div></div><div class=\"sk-parallel\"><div class=\"sk-parallel-item\"><div class=\"sk-item\"><div class=\"sk-serial\"><div class=\"sk-item\"><div class=\"sk-serial\"><div class=\"sk-item sk-dashed-wrapped\"><div class=\"sk-label-container\"><div class=\"sk-label sk-toggleable\"><input class=\"sk-toggleable__control sk-hidden--visually\" id=\"cf82e015-2c19-4479-abcc-ad2f6851f078\" type=\"checkbox\" ><label for=\"cf82e015-2c19-4479-abcc-ad2f6851f078\" class=\"sk-toggleable__label sk-toggleable__label-arrow\">columntransformer: ColumnTransformer</label><div class=\"sk-toggleable__content\"><pre>ColumnTransformer(transformers=[(&#x27;standardscaler&#x27;, StandardScaler(),\n",
       "                                 [&#x27;RegistrationYear&#x27;, &#x27;Power&#x27;, &#x27;Mileage&#x27;]),\n",
       "                                (&#x27;onehotencoder&#x27;,\n",
       "                                 OneHotEncoder(drop=&#x27;if_binary&#x27;,\n",
       "                                               handle_unknown=&#x27;ignore&#x27;),\n",
       "                                 [&#x27;VehicleType&#x27;, &#x27;Gearbox&#x27;, &#x27;Model&#x27;, &#x27;FuelType&#x27;,\n",
       "                                  &#x27;Brand&#x27;, &#x27;NotRepaired&#x27;])])</pre></div></div></div><div class=\"sk-parallel\"><div class=\"sk-parallel-item\"><div class=\"sk-item\"><div class=\"sk-label-container\"><div class=\"sk-label sk-toggleable\"><input class=\"sk-toggleable__control sk-hidden--visually\" id=\"e1c75edf-b3c3-4b53-91f1-465022bd1dfb\" type=\"checkbox\" ><label for=\"e1c75edf-b3c3-4b53-91f1-465022bd1dfb\" class=\"sk-toggleable__label sk-toggleable__label-arrow\">standardscaler</label><div class=\"sk-toggleable__content\"><pre>[&#x27;RegistrationYear&#x27;, &#x27;Power&#x27;, &#x27;Mileage&#x27;]</pre></div></div></div><div class=\"sk-serial\"><div class=\"sk-item\"><div class=\"sk-estimator sk-toggleable\"><input class=\"sk-toggleable__control sk-hidden--visually\" id=\"0fdee6c1-f78f-43a2-bbc5-d429ca7ee57a\" type=\"checkbox\" ><label for=\"0fdee6c1-f78f-43a2-bbc5-d429ca7ee57a\" class=\"sk-toggleable__label sk-toggleable__label-arrow\">StandardScaler</label><div class=\"sk-toggleable__content\"><pre>StandardScaler()</pre></div></div></div></div></div></div><div class=\"sk-parallel-item\"><div class=\"sk-item\"><div class=\"sk-label-container\"><div class=\"sk-label sk-toggleable\"><input class=\"sk-toggleable__control sk-hidden--visually\" id=\"3c9596d8-ff0d-43cd-bd8a-4cb644001e2c\" type=\"checkbox\" ><label for=\"3c9596d8-ff0d-43cd-bd8a-4cb644001e2c\" class=\"sk-toggleable__label sk-toggleable__label-arrow\">onehotencoder</label><div class=\"sk-toggleable__content\"><pre>[&#x27;VehicleType&#x27;, &#x27;Gearbox&#x27;, &#x27;Model&#x27;, &#x27;FuelType&#x27;, &#x27;Brand&#x27;, &#x27;NotRepaired&#x27;]</pre></div></div></div><div class=\"sk-serial\"><div class=\"sk-item\"><div class=\"sk-estimator sk-toggleable\"><input class=\"sk-toggleable__control sk-hidden--visually\" id=\"dfd817ea-13dc-4383-ac3e-810b0ffa309f\" type=\"checkbox\" ><label for=\"dfd817ea-13dc-4383-ac3e-810b0ffa309f\" class=\"sk-toggleable__label sk-toggleable__label-arrow\">OneHotEncoder</label><div class=\"sk-toggleable__content\"><pre>OneHotEncoder(drop=&#x27;if_binary&#x27;, handle_unknown=&#x27;ignore&#x27;)</pre></div></div></div></div></div></div></div></div><div class=\"sk-item\"><div class=\"sk-estimator sk-toggleable\"><input class=\"sk-toggleable__control sk-hidden--visually\" id=\"de9ec582-d525-4670-b67e-20d6be80a060\" type=\"checkbox\" ><label for=\"de9ec582-d525-4670-b67e-20d6be80a060\" class=\"sk-toggleable__label sk-toggleable__label-arrow\">AdaBoostRegressor</label><div class=\"sk-toggleable__content\"><pre>AdaBoostRegressor(random_state=42)</pre></div></div></div></div></div></div></div></div></div></div></div></div>"
      ],
      "text/plain": [
       "HalvingGridSearchCV(cv=3,\n",
       "                    estimator=Pipeline(steps=[('columntransformer',\n",
       "                                               ColumnTransformer(transformers=[('standardscaler',\n",
       "                                                                                StandardScaler(),\n",
       "                                                                                ['RegistrationYear',\n",
       "                                                                                 'Power',\n",
       "                                                                                 'Mileage']),\n",
       "                                                                               ('onehotencoder',\n",
       "                                                                                OneHotEncoder(drop='if_binary',\n",
       "                                                                                              handle_unknown='ignore'),\n",
       "                                                                                ['VehicleType',\n",
       "                                                                                 'Gearbox',\n",
       "                                                                                 'Model',\n",
       "                                                                                 'FuelType',\n",
       "                                                                                 'Brand',\n",
       "                                                                                 'NotRepaired'])])),\n",
       "                                              ('adaboostregressor',\n",
       "                                               AdaBoostRegressor(random_state=42))]),\n",
       "                    param_grid={'adaboostregressor__learning_rate': [0.01, 0.2],\n",
       "                                'adaboostregressor__n_estimators': [50, 100]},\n",
       "                    random_state=42, scoring='neg_mean_squared_error')"
      ]
     },
     "execution_count": 40,
     "metadata": {},
     "output_type": "execute_result"
    }
   ],
   "source": [
    "adaBoost= HalvingGridSearchCV(adaBoost_pipeline, param_grid= params, cv=3, scoring='neg_mean_squared_error', random_state=42)\n",
    "adaBoost.fit(X_train, y_train)"
   ]
  },
  {
   "cell_type": "code",
   "execution_count": 41,
   "metadata": {},
   "outputs": [
    {
     "name": "stdout",
     "output_type": "stream",
     "text": [
      "rmse of adaBoost_pipeline: 2125.8\n"
     ]
    }
   ],
   "source": [
    "adaBoost_score= np.sqrt(-adaBoost.best_score_).round(1)\n",
    "print('rmse of adaBoost_pipeline:', adaBoost_score)"
   ]
  },
  {
   "cell_type": "code",
   "execution_count": 42,
   "metadata": {},
   "outputs": [
    {
     "name": "stdout",
     "output_type": "stream",
     "text": [
      "best hyperparameters: {'adaboostregressor__learning_rate': 0.2, 'adaboostregressor__n_estimators': 50}\n"
     ]
    }
   ],
   "source": [
    "print('best hyperparameters:', adaBoost.best_params_)"
   ]
  },
  {
   "cell_type": "code",
   "execution_count": 43,
   "metadata": {},
   "outputs": [
    {
     "name": "stdout",
     "output_type": "stream",
     "text": [
      "runtime: 0.4\n",
      "rmse of adaBoost_pipeline test score: 2139.0\n"
     ]
    }
   ],
   "source": [
    "start = t.time()\n",
    "adaBoost_prediction= adaBoost.predict(X_test)\n",
    "end= t.time()\n",
    "print('runtime:', round((end - start), 1))\n",
    "test_score_adaBoost= np.sqrt(mean_squared_error(y_test, adaBoost_prediction)).round(1)\n",
    "print('rmse of adaBoost_pipeline test score:', test_score_adaBoost)"
   ]
  },
  {
   "cell_type": "markdown",
   "metadata": {},
   "source": [
    "#### GradientBoostingRegressor"
   ]
  },
  {
   "cell_type": "code",
   "execution_count": 44,
   "metadata": {},
   "outputs": [],
   "source": [
    "gradB_model= GradientBoostingRegressor(random_state=42)\n",
    "gradB_pipeline= make_pipeline(preprocessor, gradB_model)"
   ]
  },
  {
   "cell_type": "code",
   "execution_count": 45,
   "metadata": {},
   "outputs": [],
   "source": [
    "#gradB_pipeline.get_params().keys()"
   ]
  },
  {
   "cell_type": "code",
   "execution_count": 46,
   "metadata": {},
   "outputs": [],
   "source": [
    "params= dict(gradientboostingregressor__n_estimators= [100, 200] )"
   ]
  },
  {
   "cell_type": "code",
   "execution_count": 47,
   "metadata": {},
   "outputs": [
    {
     "data": {
      "text/html": [
       "<style>#sk-16df3c91-cd9f-407f-8041-480cf3cbfc53 {color: black;background-color: white;}#sk-16df3c91-cd9f-407f-8041-480cf3cbfc53 pre{padding: 0;}#sk-16df3c91-cd9f-407f-8041-480cf3cbfc53 div.sk-toggleable {background-color: white;}#sk-16df3c91-cd9f-407f-8041-480cf3cbfc53 label.sk-toggleable__label {cursor: pointer;display: block;width: 100%;margin-bottom: 0;padding: 0.3em;box-sizing: border-box;text-align: center;}#sk-16df3c91-cd9f-407f-8041-480cf3cbfc53 label.sk-toggleable__label-arrow:before {content: \"▸\";float: left;margin-right: 0.25em;color: #696969;}#sk-16df3c91-cd9f-407f-8041-480cf3cbfc53 label.sk-toggleable__label-arrow:hover:before {color: black;}#sk-16df3c91-cd9f-407f-8041-480cf3cbfc53 div.sk-estimator:hover label.sk-toggleable__label-arrow:before {color: black;}#sk-16df3c91-cd9f-407f-8041-480cf3cbfc53 div.sk-toggleable__content {max-height: 0;max-width: 0;overflow: hidden;text-align: left;background-color: #f0f8ff;}#sk-16df3c91-cd9f-407f-8041-480cf3cbfc53 div.sk-toggleable__content pre {margin: 0.2em;color: black;border-radius: 0.25em;background-color: #f0f8ff;}#sk-16df3c91-cd9f-407f-8041-480cf3cbfc53 input.sk-toggleable__control:checked~div.sk-toggleable__content {max-height: 200px;max-width: 100%;overflow: auto;}#sk-16df3c91-cd9f-407f-8041-480cf3cbfc53 input.sk-toggleable__control:checked~label.sk-toggleable__label-arrow:before {content: \"▾\";}#sk-16df3c91-cd9f-407f-8041-480cf3cbfc53 div.sk-estimator input.sk-toggleable__control:checked~label.sk-toggleable__label {background-color: #d4ebff;}#sk-16df3c91-cd9f-407f-8041-480cf3cbfc53 div.sk-label input.sk-toggleable__control:checked~label.sk-toggleable__label {background-color: #d4ebff;}#sk-16df3c91-cd9f-407f-8041-480cf3cbfc53 input.sk-hidden--visually {border: 0;clip: rect(1px 1px 1px 1px);clip: rect(1px, 1px, 1px, 1px);height: 1px;margin: -1px;overflow: hidden;padding: 0;position: absolute;width: 1px;}#sk-16df3c91-cd9f-407f-8041-480cf3cbfc53 div.sk-estimator {font-family: monospace;background-color: #f0f8ff;border: 1px dotted black;border-radius: 0.25em;box-sizing: border-box;margin-bottom: 0.5em;}#sk-16df3c91-cd9f-407f-8041-480cf3cbfc53 div.sk-estimator:hover {background-color: #d4ebff;}#sk-16df3c91-cd9f-407f-8041-480cf3cbfc53 div.sk-parallel-item::after {content: \"\";width: 100%;border-bottom: 1px solid gray;flex-grow: 1;}#sk-16df3c91-cd9f-407f-8041-480cf3cbfc53 div.sk-label:hover label.sk-toggleable__label {background-color: #d4ebff;}#sk-16df3c91-cd9f-407f-8041-480cf3cbfc53 div.sk-serial::before {content: \"\";position: absolute;border-left: 1px solid gray;box-sizing: border-box;top: 2em;bottom: 0;left: 50%;}#sk-16df3c91-cd9f-407f-8041-480cf3cbfc53 div.sk-serial {display: flex;flex-direction: column;align-items: center;background-color: white;padding-right: 0.2em;padding-left: 0.2em;}#sk-16df3c91-cd9f-407f-8041-480cf3cbfc53 div.sk-item {z-index: 1;}#sk-16df3c91-cd9f-407f-8041-480cf3cbfc53 div.sk-parallel {display: flex;align-items: stretch;justify-content: center;background-color: white;}#sk-16df3c91-cd9f-407f-8041-480cf3cbfc53 div.sk-parallel::before {content: \"\";position: absolute;border-left: 1px solid gray;box-sizing: border-box;top: 2em;bottom: 0;left: 50%;}#sk-16df3c91-cd9f-407f-8041-480cf3cbfc53 div.sk-parallel-item {display: flex;flex-direction: column;position: relative;background-color: white;}#sk-16df3c91-cd9f-407f-8041-480cf3cbfc53 div.sk-parallel-item:first-child::after {align-self: flex-end;width: 50%;}#sk-16df3c91-cd9f-407f-8041-480cf3cbfc53 div.sk-parallel-item:last-child::after {align-self: flex-start;width: 50%;}#sk-16df3c91-cd9f-407f-8041-480cf3cbfc53 div.sk-parallel-item:only-child::after {width: 0;}#sk-16df3c91-cd9f-407f-8041-480cf3cbfc53 div.sk-dashed-wrapped {border: 1px dashed gray;margin: 0 0.4em 0.5em 0.4em;box-sizing: border-box;padding-bottom: 0.4em;background-color: white;position: relative;}#sk-16df3c91-cd9f-407f-8041-480cf3cbfc53 div.sk-label label {font-family: monospace;font-weight: bold;background-color: white;display: inline-block;line-height: 1.2em;}#sk-16df3c91-cd9f-407f-8041-480cf3cbfc53 div.sk-label-container {position: relative;z-index: 2;text-align: center;}#sk-16df3c91-cd9f-407f-8041-480cf3cbfc53 div.sk-container {/* jupyter's `normalize.less` sets `[hidden] { display: none; }` but bootstrap.min.css set `[hidden] { display: none !important; }` so we also need the `!important` here to be able to override the default hidden behavior on the sphinx rendered scikit-learn.org. See: https://github.com/scikit-learn/scikit-learn/issues/21755 */display: inline-block !important;position: relative;}#sk-16df3c91-cd9f-407f-8041-480cf3cbfc53 div.sk-text-repr-fallback {display: none;}</style><div id=\"sk-16df3c91-cd9f-407f-8041-480cf3cbfc53\" class=\"sk-top-container\"><div class=\"sk-text-repr-fallback\"><pre>HalvingGridSearchCV(cv=3,\n",
       "                    estimator=Pipeline(steps=[(&#x27;columntransformer&#x27;,\n",
       "                                               ColumnTransformer(transformers=[(&#x27;standardscaler&#x27;,\n",
       "                                                                                StandardScaler(),\n",
       "                                                                                [&#x27;RegistrationYear&#x27;,\n",
       "                                                                                 &#x27;Power&#x27;,\n",
       "                                                                                 &#x27;Mileage&#x27;]),\n",
       "                                                                               (&#x27;onehotencoder&#x27;,\n",
       "                                                                                OneHotEncoder(drop=&#x27;if_binary&#x27;,\n",
       "                                                                                              handle_unknown=&#x27;ignore&#x27;),\n",
       "                                                                                [&#x27;VehicleType&#x27;,\n",
       "                                                                                 &#x27;Gearbox&#x27;,\n",
       "                                                                                 &#x27;Model&#x27;,\n",
       "                                                                                 &#x27;FuelType&#x27;,\n",
       "                                                                                 &#x27;Brand&#x27;,\n",
       "                                                                                 &#x27;NotRepaired&#x27;])])),\n",
       "                                              (&#x27;gradientboostingregressor&#x27;,\n",
       "                                               GradientBoostingRegressor(random_state=42))]),\n",
       "                    param_grid={&#x27;gradientboostingregressor__n_estimators&#x27;: [100,\n",
       "                                                                            200]},\n",
       "                    random_state=42, scoring=&#x27;neg_mean_squared_error&#x27;)</pre><b>Please rerun this cell to show the HTML repr or trust the notebook.</b></div><div class=\"sk-container\" hidden><div class=\"sk-item sk-dashed-wrapped\"><div class=\"sk-label-container\"><div class=\"sk-label sk-toggleable\"><input class=\"sk-toggleable__control sk-hidden--visually\" id=\"93ac9fb6-1d49-4abb-94f5-982d6e890d5d\" type=\"checkbox\" ><label for=\"93ac9fb6-1d49-4abb-94f5-982d6e890d5d\" class=\"sk-toggleable__label sk-toggleable__label-arrow\">HalvingGridSearchCV</label><div class=\"sk-toggleable__content\"><pre>HalvingGridSearchCV(cv=3,\n",
       "                    estimator=Pipeline(steps=[(&#x27;columntransformer&#x27;,\n",
       "                                               ColumnTransformer(transformers=[(&#x27;standardscaler&#x27;,\n",
       "                                                                                StandardScaler(),\n",
       "                                                                                [&#x27;RegistrationYear&#x27;,\n",
       "                                                                                 &#x27;Power&#x27;,\n",
       "                                                                                 &#x27;Mileage&#x27;]),\n",
       "                                                                               (&#x27;onehotencoder&#x27;,\n",
       "                                                                                OneHotEncoder(drop=&#x27;if_binary&#x27;,\n",
       "                                                                                              handle_unknown=&#x27;ignore&#x27;),\n",
       "                                                                                [&#x27;VehicleType&#x27;,\n",
       "                                                                                 &#x27;Gearbox&#x27;,\n",
       "                                                                                 &#x27;Model&#x27;,\n",
       "                                                                                 &#x27;FuelType&#x27;,\n",
       "                                                                                 &#x27;Brand&#x27;,\n",
       "                                                                                 &#x27;NotRepaired&#x27;])])),\n",
       "                                              (&#x27;gradientboostingregressor&#x27;,\n",
       "                                               GradientBoostingRegressor(random_state=42))]),\n",
       "                    param_grid={&#x27;gradientboostingregressor__n_estimators&#x27;: [100,\n",
       "                                                                            200]},\n",
       "                    random_state=42, scoring=&#x27;neg_mean_squared_error&#x27;)</pre></div></div></div><div class=\"sk-parallel\"><div class=\"sk-parallel-item\"><div class=\"sk-item\"><div class=\"sk-serial\"><div class=\"sk-item\"><div class=\"sk-serial\"><div class=\"sk-item sk-dashed-wrapped\"><div class=\"sk-label-container\"><div class=\"sk-label sk-toggleable\"><input class=\"sk-toggleable__control sk-hidden--visually\" id=\"36283e5b-8381-42f1-8391-ecfed4d5eb87\" type=\"checkbox\" ><label for=\"36283e5b-8381-42f1-8391-ecfed4d5eb87\" class=\"sk-toggleable__label sk-toggleable__label-arrow\">columntransformer: ColumnTransformer</label><div class=\"sk-toggleable__content\"><pre>ColumnTransformer(transformers=[(&#x27;standardscaler&#x27;, StandardScaler(),\n",
       "                                 [&#x27;RegistrationYear&#x27;, &#x27;Power&#x27;, &#x27;Mileage&#x27;]),\n",
       "                                (&#x27;onehotencoder&#x27;,\n",
       "                                 OneHotEncoder(drop=&#x27;if_binary&#x27;,\n",
       "                                               handle_unknown=&#x27;ignore&#x27;),\n",
       "                                 [&#x27;VehicleType&#x27;, &#x27;Gearbox&#x27;, &#x27;Model&#x27;, &#x27;FuelType&#x27;,\n",
       "                                  &#x27;Brand&#x27;, &#x27;NotRepaired&#x27;])])</pre></div></div></div><div class=\"sk-parallel\"><div class=\"sk-parallel-item\"><div class=\"sk-item\"><div class=\"sk-label-container\"><div class=\"sk-label sk-toggleable\"><input class=\"sk-toggleable__control sk-hidden--visually\" id=\"8d56764c-5cb9-48d1-b7dd-b1b9669175f0\" type=\"checkbox\" ><label for=\"8d56764c-5cb9-48d1-b7dd-b1b9669175f0\" class=\"sk-toggleable__label sk-toggleable__label-arrow\">standardscaler</label><div class=\"sk-toggleable__content\"><pre>[&#x27;RegistrationYear&#x27;, &#x27;Power&#x27;, &#x27;Mileage&#x27;]</pre></div></div></div><div class=\"sk-serial\"><div class=\"sk-item\"><div class=\"sk-estimator sk-toggleable\"><input class=\"sk-toggleable__control sk-hidden--visually\" id=\"580f7b99-0fab-4b85-a320-e9523ca38b7a\" type=\"checkbox\" ><label for=\"580f7b99-0fab-4b85-a320-e9523ca38b7a\" class=\"sk-toggleable__label sk-toggleable__label-arrow\">StandardScaler</label><div class=\"sk-toggleable__content\"><pre>StandardScaler()</pre></div></div></div></div></div></div><div class=\"sk-parallel-item\"><div class=\"sk-item\"><div class=\"sk-label-container\"><div class=\"sk-label sk-toggleable\"><input class=\"sk-toggleable__control sk-hidden--visually\" id=\"9e4ea7f3-458f-41e4-bc58-83e0142ef502\" type=\"checkbox\" ><label for=\"9e4ea7f3-458f-41e4-bc58-83e0142ef502\" class=\"sk-toggleable__label sk-toggleable__label-arrow\">onehotencoder</label><div class=\"sk-toggleable__content\"><pre>[&#x27;VehicleType&#x27;, &#x27;Gearbox&#x27;, &#x27;Model&#x27;, &#x27;FuelType&#x27;, &#x27;Brand&#x27;, &#x27;NotRepaired&#x27;]</pre></div></div></div><div class=\"sk-serial\"><div class=\"sk-item\"><div class=\"sk-estimator sk-toggleable\"><input class=\"sk-toggleable__control sk-hidden--visually\" id=\"39f10782-4f68-4a62-8d3b-a97b15b31979\" type=\"checkbox\" ><label for=\"39f10782-4f68-4a62-8d3b-a97b15b31979\" class=\"sk-toggleable__label sk-toggleable__label-arrow\">OneHotEncoder</label><div class=\"sk-toggleable__content\"><pre>OneHotEncoder(drop=&#x27;if_binary&#x27;, handle_unknown=&#x27;ignore&#x27;)</pre></div></div></div></div></div></div></div></div><div class=\"sk-item\"><div class=\"sk-estimator sk-toggleable\"><input class=\"sk-toggleable__control sk-hidden--visually\" id=\"e6970166-2a30-42a9-ad2c-5cea7545d677\" type=\"checkbox\" ><label for=\"e6970166-2a30-42a9-ad2c-5cea7545d677\" class=\"sk-toggleable__label sk-toggleable__label-arrow\">GradientBoostingRegressor</label><div class=\"sk-toggleable__content\"><pre>GradientBoostingRegressor(random_state=42)</pre></div></div></div></div></div></div></div></div></div></div></div></div>"
      ],
      "text/plain": [
       "HalvingGridSearchCV(cv=3,\n",
       "                    estimator=Pipeline(steps=[('columntransformer',\n",
       "                                               ColumnTransformer(transformers=[('standardscaler',\n",
       "                                                                                StandardScaler(),\n",
       "                                                                                ['RegistrationYear',\n",
       "                                                                                 'Power',\n",
       "                                                                                 'Mileage']),\n",
       "                                                                               ('onehotencoder',\n",
       "                                                                                OneHotEncoder(drop='if_binary',\n",
       "                                                                                              handle_unknown='ignore'),\n",
       "                                                                                ['VehicleType',\n",
       "                                                                                 'Gearbox',\n",
       "                                                                                 'Model',\n",
       "                                                                                 'FuelType',\n",
       "                                                                                 'Brand',\n",
       "                                                                                 'NotRepaired'])])),\n",
       "                                              ('gradientboostingregressor',\n",
       "                                               GradientBoostingRegressor(random_state=42))]),\n",
       "                    param_grid={'gradientboostingregressor__n_estimators': [100,\n",
       "                                                                            200]},\n",
       "                    random_state=42, scoring='neg_mean_squared_error')"
      ]
     },
     "execution_count": 47,
     "metadata": {},
     "output_type": "execute_result"
    }
   ],
   "source": [
    "gradientBoosting= HalvingGridSearchCV(gradB_pipeline, param_grid= params, cv=3, scoring='neg_mean_squared_error', random_state=42)\n",
    "gradientBoosting.fit(X_train, y_train)"
   ]
  },
  {
   "cell_type": "code",
   "execution_count": 48,
   "metadata": {},
   "outputs": [
    {
     "name": "stdout",
     "output_type": "stream",
     "text": [
      "rmse of gradB_pipeline: 1491.4\n"
     ]
    }
   ],
   "source": [
    "gradientBoosting_score= np.sqrt(-gradientBoosting.best_score_).round(1)\n",
    "gradientBoosting_score\n",
    "print('rmse of gradB_pipeline:', gradientBoosting_score)"
   ]
  },
  {
   "cell_type": "code",
   "execution_count": 49,
   "metadata": {},
   "outputs": [
    {
     "name": "stdout",
     "output_type": "stream",
     "text": [
      "best hyperparameters: {'gradientboostingregressor__n_estimators': 200}\n"
     ]
    }
   ],
   "source": [
    "print('best hyperparameters:', gradientBoosting.best_params_)"
   ]
  },
  {
   "cell_type": "code",
   "execution_count": 50,
   "metadata": {},
   "outputs": [
    {
     "name": "stdout",
     "output_type": "stream",
     "text": [
      "runtime: 0.4\n",
      "rmse of gradB_pipeline test score: 1495.8\n"
     ]
    }
   ],
   "source": [
    "start = t.time()\n",
    "gradientBoosting_prediction= gradientBoosting.predict(X_test) \n",
    "end= t.time()\n",
    "print('runtime:', round((end - start), 1))\n",
    "test_score_gradientBoosting= np.sqrt(mean_squared_error(y_test, gradientBoosting_prediction)).round(1)\n",
    "print('rmse of gradB_pipeline test score:', test_score_gradientBoosting)"
   ]
  },
  {
   "cell_type": "markdown",
   "metadata": {},
   "source": [
    "## 3. Conclusion"
   ]
  },
  {
   "cell_type": "markdown",
   "metadata": {},
   "source": [
    "Score performance:\n",
    "\n",
    "- several estimators and hyperparameters have been tested for the prediction of the used cars price: Linear regression, ElasticNet regression, RandomForest regression, AdaBoost regression and gradientBoosting regression. \n",
    "- the Linear regression has been selected as the baseline estimator with rmse value of 1921.9, which constitutes about 50% error off the mean price (4002.5)\n",
    "- 2 models proved as improvements to this value: RandomForest regression (rmse= 1870.0) and GradientBoosting regression (rmse= 1495.8). \n",
    "- gradient boosting proved to yield the minimal rmse, therefor proving to be the optimal estimator in scoring terms.    \n",
    "\n",
    "Runtime performance: \n",
    "- in terms of runtime performance the best performance is that of linear regression and ElasticNet (0.1 seconds), followed by gradient boosting and RandomForest regression (0.4 seconds) and AdaBoost (0.5 seconds). \n",
    "\n",
    "overall: the best performance in both runtime and rmse terms, was that of GradientBoosting regression."
   ]
  },
  {
   "cell_type": "code",
   "execution_count": null,
   "metadata": {},
   "outputs": [],
   "source": []
  }
 ],
 "metadata": {
  "ExecuteTimeLog": [
   {
    "duration": 1717,
    "start_time": "2021-11-14T05:32:02.094Z"
   },
   {
    "duration": -205,
    "start_time": "2021-11-14T05:32:04.020Z"
   },
   {
    "duration": -210,
    "start_time": "2021-11-14T05:32:04.026Z"
   }
  ],
  "interpreter": {
   "hash": "23300995598eec4bcf6bd89cf02d1c3675e8b2616661418dbbf5580aa901878d"
  },
  "kernelspec": {
   "display_name": "Python 3",
   "language": "python",
   "name": "python3"
  },
  "language_info": {
   "codemirror_mode": {
    "name": "ipython",
    "version": 3
   },
   "file_extension": ".py",
   "mimetype": "text/x-python",
   "name": "python",
   "nbconvert_exporter": "python",
   "pygments_lexer": "ipython3",
   "version": "3.9.7"
  },
  "toc": {
   "base_numbering": 1,
   "nav_menu": {},
   "number_sections": true,
   "sideBar": true,
   "skip_h1_title": true,
   "title_cell": "Table of Contents",
   "title_sidebar": "Contents",
   "toc_cell": false,
   "toc_position": {},
   "toc_section_display": true,
   "toc_window_display": false
  }
 },
 "nbformat": 4,
 "nbformat_minor": 2
}
